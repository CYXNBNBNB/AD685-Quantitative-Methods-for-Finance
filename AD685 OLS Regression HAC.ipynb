{
  "cells": [
    {
      "cell_type": "code",
      "execution_count": 10,
      "metadata": {
        "trusted": true
      },
      "outputs": [],
      "source": [
        "import statsmodels.api as sm\n",
        "import statsmodels.stats.sandwich_covariance as sw\n",
        "import numpy as np\n",
        "import pandas as pd"
      ]
    },
    {
      "cell_type": "code",
      "execution_count": 13,
      "metadata": {
        "trusted": true
      },
      "outputs": [
        {
          "data": {
            "text/html": [
              "<div>\n",
              "<style scoped>\n",
              "    .dataframe tbody tr th:only-of-type {\n",
              "        vertical-align: middle;\n",
              "    }\n",
              "\n",
              "    .dataframe tbody tr th {\n",
              "        vertical-align: top;\n",
              "    }\n",
              "\n",
              "    .dataframe thead th {\n",
              "        text-align: right;\n",
              "    }\n",
              "</style>\n",
              "<table border=\"1\" class=\"dataframe\">\n",
              "  <thead>\n",
              "    <tr style=\"text-align: right;\">\n",
              "      <th></th>\n",
              "      <th>Date</th>\n",
              "      <th>Close</th>\n",
              "    </tr>\n",
              "  </thead>\n",
              "  <tbody>\n",
              "    <tr>\n",
              "      <th>0</th>\n",
              "      <td>2022-12-30</td>\n",
              "      <td>63.61</td>\n",
              "    </tr>\n",
              "    <tr>\n",
              "      <th>1</th>\n",
              "      <td>2022-12-29</td>\n",
              "      <td>63.95</td>\n",
              "    </tr>\n",
              "    <tr>\n",
              "      <th>2</th>\n",
              "      <td>2022-12-28</td>\n",
              "      <td>63.57</td>\n",
              "    </tr>\n",
              "    <tr>\n",
              "      <th>3</th>\n",
              "      <td>2022-12-27</td>\n",
              "      <td>64.21</td>\n",
              "    </tr>\n",
              "    <tr>\n",
              "      <th>4</th>\n",
              "      <td>2022-12-23</td>\n",
              "      <td>63.82</td>\n",
              "    </tr>\n",
              "  </tbody>\n",
              "</table>\n",
              "</div>"
            ],
            "text/plain": [
              "        Date  Close \n",
              "0 2022-12-30   63.61\n",
              "1 2022-12-29   63.95\n",
              "2 2022-12-28   63.57\n",
              "3 2022-12-27   64.21\n",
              "4 2022-12-23   63.82"
            ]
          },
          "execution_count": 13,
          "metadata": {},
          "output_type": "execute_result"
        }
      ],
      "source": [
        "df = pd.read_excel(\n",
        "    \"data/OK.xlsx\",\n",
        "    sheet_name=0,\n",
        "    engine=\"openpyxl\"\n",
        ")\n",
        "\n",
        "df.head()"
      ]
    },
    {
      "cell_type": "code",
      "execution_count": 44,
      "metadata": {
        "trusted": true
      },
      "outputs": [
        {
          "data": {
            "text/plain": [
              "0      2021-01-04\n",
              "1      2021-01-05\n",
              "2      2021-01-06\n",
              "3      2021-01-07\n",
              "4      2021-01-08\n",
              "          ...    \n",
              "748    2023-12-22\n",
              "749    2023-12-26\n",
              "750    2023-12-27\n",
              "751    2023-12-28\n",
              "752    2023-12-29\n",
              "Name: Date, Length: 753, dtype: object"
            ]
          },
          "execution_count": 44,
          "metadata": {},
          "output_type": "execute_result"
        }
      ],
      "source": [
        "df_tol['Date']"
      ]
    },
    {
      "cell_type": "code",
      "execution_count": 45,
      "metadata": {
        "trusted": true
      },
      "outputs": [
        {
          "data": {
            "text/plain": [
              "0       42.660000\n",
              "1       42.410000\n",
              "2       42.360001\n",
              "3       44.220001\n",
              "4       42.970001\n",
              "          ...    \n",
              "748    103.570000\n",
              "749    103.470001\n",
              "750    104.059998\n",
              "751    103.529999\n",
              "752    102.790001\n",
              "Name: Close, Length: 753, dtype: float64"
            ]
          },
          "execution_count": 45,
          "metadata": {},
          "output_type": "execute_result"
        }
      ],
      "source": [
        "df_tol['Close']"
      ]
    },
    {
      "cell_type": "code",
      "execution_count": 46,
      "metadata": {
        "trusted": true
      },
      "outputs": [],
      "source": [
        "#--y = np.asarray(df_tol['Close']).astype(float)\n",
        "X = pd.to_datetime(df_tol['Date']).apply(lambda x: x.toordinal()) \n",
        "X = np.asarray(sm.add_constant(X))"
      ]
    },
    {
      "cell_type": "code",
      "execution_count": 47,
      "metadata": {
        "trusted": true
      },
      "outputs": [],
      "source": [
        "model = sm.OLS(df_tol['Close'], X).fit()"
      ]
    },
    {
      "cell_type": "code",
      "execution_count": 48,
      "metadata": {
        "trusted": true
      },
      "outputs": [
        {
          "name": "stdout",
          "output_type": "stream",
          "text": [
            "                            OLS Regression Results                            \n",
            "==============================================================================\n",
            "Dep. Variable:                  Close   R-squared:                       0.230\n",
            "Model:                            OLS   Adj. R-squared:                  0.229\n",
            "Method:                 Least Squares   F-statistic:                     224.5\n",
            "Date:                Thu, 06 Jun 2024   Prob (F-statistic):           1.37e-44\n",
            "Time:                        13:56:34   Log-Likelihood:                -2882.1\n",
            "No. Observations:                 753   AIC:                             5768.\n",
            "Df Residuals:                     751   BIC:                             5777.\n",
            "Df Model:                           1                                         \n",
            "Covariance Type:            nonrobust                                         \n",
            "==============================================================================\n",
            "                 coef    std err          t      P>|t|      [0.025      0.975]\n",
            "------------------------------------------------------------------------------\n",
            "const      -1.417e+04    949.775    -14.919      0.000    -1.6e+04   -1.23e+04\n",
            "x1             0.0193      0.001     14.982      0.000       0.017       0.022\n",
            "==============================================================================\n",
            "Omnibus:                        7.121   Durbin-Watson:                   0.015\n",
            "Prob(Omnibus):                  0.028   Jarque-Bera (JB):                5.878\n",
            "Skew:                           0.133   Prob(JB):                       0.0529\n",
            "Kurtosis:                       2.658   Cond. No.                     1.73e+09\n",
            "==============================================================================\n",
            "\n",
            "Notes:\n",
            "[1] Standard Errors assume that the covariance matrix of the errors is correctly specified.\n",
            "[2] The condition number is large, 1.73e+09. This might indicate that there are\n",
            "strong multicollinearity or other numerical problems.\n"
          ]
        }
      ],
      "source": [
        "print(model.summary())"
      ]
    },
    {
      "cell_type": "code",
      "execution_count": 49,
      "metadata": {
        "trusted": true
      },
      "outputs": [],
      "source": [
        "hac_cov = sw.cov_hac(model, 1)"
      ]
    },
    {
      "cell_type": "code",
      "execution_count": 50,
      "metadata": {
        "trusted": true
      },
      "outputs": [
        {
          "name": "stdout",
          "output_type": "stream",
          "text": [
            "                            OLS Regression Results                            \n",
            "==============================================================================\n",
            "Dep. Variable:                  Close   R-squared:                       0.230\n",
            "Model:                            OLS   Adj. R-squared:                  0.229\n",
            "Method:                 Least Squares   F-statistic:                     110.7\n",
            "Date:                Thu, 06 Jun 2024   Prob (F-statistic):           3.04e-24\n",
            "Time:                        13:56:34   Log-Likelihood:                -2882.1\n",
            "No. Observations:                 753   AIC:                             5768.\n",
            "Df Residuals:                     751   BIC:                             5777.\n",
            "Df Model:                           1                                         \n",
            "Covariance Type:                  HAC                                         \n",
            "==============================================================================\n",
            "                 coef    std err          t      P>|t|      [0.025      0.975]\n",
            "------------------------------------------------------------------------------\n",
            "const      -1.417e+04   1352.214    -10.479      0.000   -1.68e+04   -1.15e+04\n",
            "x1             0.0193      0.002     10.521      0.000       0.016       0.023\n",
            "==============================================================================\n",
            "Omnibus:                        7.121   Durbin-Watson:                   0.015\n",
            "Prob(Omnibus):                  0.028   Jarque-Bera (JB):                5.878\n",
            "Skew:                           0.133   Prob(JB):                       0.0529\n",
            "Kurtosis:                       2.658   Cond. No.                     1.73e+09\n",
            "==============================================================================\n",
            "\n",
            "Notes:\n",
            "[1] Standard Errors are heteroscedasticity and autocorrelation robust (HAC) using 1 lags and without small sample correction\n",
            "[2] The condition number is large, 1.73e+09. This might indicate that there are\n",
            "strong multicollinearity or other numerical problems.\n"
          ]
        }
      ],
      "source": [
        "s = model.get_robustcov_results(cov_type='HAC', maxlags=1)\n",
        "print(s.summary())"
      ]
    },
    {
      "cell_type": "raw",
      "metadata": {},
      "source": []
    }
  ],
  "metadata": {
    "kernelspec": {
      "display_name": ".venv",
      "language": "python",
      "name": "python3"
    },
    "language_info": {
      "codemirror_mode": {
        "name": "ipython",
        "version": 3
      },
      "file_extension": ".py",
      "mimetype": "text/x-python",
      "name": "python",
      "nbconvert_exporter": "python",
      "pygments_lexer": "ipython3",
      "version": "3.12.3"
    }
  },
  "nbformat": 4,
  "nbformat_minor": 4
}
