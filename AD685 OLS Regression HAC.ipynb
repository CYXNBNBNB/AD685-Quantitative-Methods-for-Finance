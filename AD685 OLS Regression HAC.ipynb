{
  "cells": [
    {
      "cell_type": "code",
      "execution_count": 1,
      "metadata": {
        "trusted": true
      },
      "outputs": [],
      "source": [
        "import statsmodels.api as sm\n",
        "import statsmodels.stats.sandwich_covariance as sw\n",
        "import numpy as np\n",
        "import pandas as pd\n",
        "import matplotlib.pyplot as plt"
      ]
    },
    {
      "cell_type": "markdown",
      "metadata": {},
      "source": [
        "## Import data"
      ]
    },
    {
      "cell_type": "code",
      "execution_count": 2,
      "metadata": {
        "trusted": true
      },
      "outputs": [
        {
          "data": {
            "text/html": [
              "<div>\n",
              "<style scoped>\n",
              "    .dataframe tbody tr th:only-of-type {\n",
              "        vertical-align: middle;\n",
              "    }\n",
              "\n",
              "    .dataframe tbody tr th {\n",
              "        vertical-align: top;\n",
              "    }\n",
              "\n",
              "    .dataframe thead th {\n",
              "        text-align: right;\n",
              "    }\n",
              "</style>\n",
              "<table border=\"1\" class=\"dataframe\">\n",
              "  <thead>\n",
              "    <tr style=\"text-align: right;\">\n",
              "      <th></th>\n",
              "      <th>Close</th>\n",
              "    </tr>\n",
              "    <tr>\n",
              "      <th>Date</th>\n",
              "      <th></th>\n",
              "    </tr>\n",
              "  </thead>\n",
              "  <tbody>\n",
              "    <tr>\n",
              "      <th>2020-01-02</th>\n",
              "      <td>54.99</td>\n",
              "    </tr>\n",
              "    <tr>\n",
              "      <th>2020-01-03</th>\n",
              "      <td>54.69</td>\n",
              "    </tr>\n",
              "    <tr>\n",
              "      <th>2020-01-06</th>\n",
              "      <td>54.67</td>\n",
              "    </tr>\n",
              "    <tr>\n",
              "      <th>2020-01-07</th>\n",
              "      <td>54.25</td>\n",
              "    </tr>\n",
              "    <tr>\n",
              "      <th>2020-01-08</th>\n",
              "      <td>54.35</td>\n",
              "    </tr>\n",
              "  </tbody>\n",
              "</table>\n",
              "</div>"
            ],
            "text/plain": [
              "            Close\n",
              "Date             \n",
              "2020-01-02  54.99\n",
              "2020-01-03  54.69\n",
              "2020-01-06  54.67\n",
              "2020-01-07  54.25\n",
              "2020-01-08  54.35"
            ]
          },
          "execution_count": 2,
          "metadata": {},
          "output_type": "execute_result"
        }
      ],
      "source": [
        "OK = pd.read_excel(\n",
        "    \"data/OK.xlsx\",\n",
        "    sheet_name=0,\n",
        "    engine=\"openpyxl\"\n",
        ")\n",
        "\n",
        "OK[\"Date\"] = pd.to_datetime(OK[\"Date\"])\n",
        "OK = OK.set_index(\"Date\").sort_index()\n",
        "\n",
        "OK.head()"
      ]
    },
    {
      "cell_type": "code",
      "execution_count": 3,
      "metadata": {},
      "outputs": [
        {
          "data": {
            "text/html": [
              "<div>\n",
              "<style scoped>\n",
              "    .dataframe tbody tr th:only-of-type {\n",
              "        vertical-align: middle;\n",
              "    }\n",
              "\n",
              "    .dataframe tbody tr th {\n",
              "        vertical-align: top;\n",
              "    }\n",
              "\n",
              "    .dataframe thead th {\n",
              "        text-align: right;\n",
              "    }\n",
              "</style>\n",
              "<table border=\"1\" class=\"dataframe\">\n",
              "  <thead>\n",
              "    <tr style=\"text-align: right;\">\n",
              "      <th></th>\n",
              "      <th>Close</th>\n",
              "    </tr>\n",
              "    <tr>\n",
              "      <th>Date</th>\n",
              "      <th></th>\n",
              "    </tr>\n",
              "  </thead>\n",
              "  <tbody>\n",
              "    <tr>\n",
              "      <th>2020-01-02</th>\n",
              "      <td>324.87</td>\n",
              "    </tr>\n",
              "    <tr>\n",
              "      <th>2020-01-03</th>\n",
              "      <td>322.41</td>\n",
              "    </tr>\n",
              "    <tr>\n",
              "      <th>2020-01-06</th>\n",
              "      <td>323.64</td>\n",
              "    </tr>\n",
              "    <tr>\n",
              "      <th>2020-01-07</th>\n",
              "      <td>322.73</td>\n",
              "    </tr>\n",
              "    <tr>\n",
              "      <th>2020-01-08</th>\n",
              "      <td>324.45</td>\n",
              "    </tr>\n",
              "  </tbody>\n",
              "</table>\n",
              "</div>"
            ],
            "text/plain": [
              "             Close\n",
              "Date              \n",
              "2020-01-02  324.87\n",
              "2020-01-03  322.41\n",
              "2020-01-06  323.64\n",
              "2020-01-07  322.73\n",
              "2020-01-08  324.45"
            ]
          },
          "execution_count": 3,
          "metadata": {},
          "output_type": "execute_result"
        }
      ],
      "source": [
        "SPY = pd.read_excel(\n",
        "    \"data/SPY.xlsx\",\n",
        "    sheet_name=0,\n",
        "    engine=\"openpyxl\"\n",
        ")\n",
        "\n",
        "SPY[\"Date\"] = pd.to_datetime(SPY[\"Date\"])\n",
        "SPY = SPY.set_index(\"Date\").sort_index()\n",
        "\n",
        "SPY.head()"
      ]
    },
    {
      "cell_type": "code",
      "execution_count": 4,
      "metadata": {},
      "outputs": [
        {
          "data": {
            "text/html": [
              "<div>\n",
              "<style scoped>\n",
              "    .dataframe tbody tr th:only-of-type {\n",
              "        vertical-align: middle;\n",
              "    }\n",
              "\n",
              "    .dataframe tbody tr th {\n",
              "        vertical-align: top;\n",
              "    }\n",
              "\n",
              "    .dataframe thead th {\n",
              "        text-align: right;\n",
              "    }\n",
              "</style>\n",
              "<table border=\"1\" class=\"dataframe\">\n",
              "  <thead>\n",
              "    <tr style=\"text-align: right;\">\n",
              "      <th></th>\n",
              "      <th>Close</th>\n",
              "    </tr>\n",
              "    <tr>\n",
              "      <th>Date</th>\n",
              "      <th></th>\n",
              "    </tr>\n",
              "  </thead>\n",
              "  <tbody>\n",
              "    <tr>\n",
              "      <th>2020-01-02</th>\n",
              "      <td>1524.5</td>\n",
              "    </tr>\n",
              "    <tr>\n",
              "      <th>2020-01-03</th>\n",
              "      <td>1549.2</td>\n",
              "    </tr>\n",
              "    <tr>\n",
              "      <th>2020-01-06</th>\n",
              "      <td>1566.2</td>\n",
              "    </tr>\n",
              "    <tr>\n",
              "      <th>2020-01-07</th>\n",
              "      <td>1571.8</td>\n",
              "    </tr>\n",
              "    <tr>\n",
              "      <th>2020-01-08</th>\n",
              "      <td>1557.4</td>\n",
              "    </tr>\n",
              "  </tbody>\n",
              "</table>\n",
              "</div>"
            ],
            "text/plain": [
              "             Close\n",
              "Date              \n",
              "2020-01-02  1524.5\n",
              "2020-01-03  1549.2\n",
              "2020-01-06  1566.2\n",
              "2020-01-07  1571.8\n",
              "2020-01-08  1557.4"
            ]
          },
          "execution_count": 4,
          "metadata": {},
          "output_type": "execute_result"
        }
      ],
      "source": [
        "GCF = pd.read_excel(\n",
        "    \"data/GCF.xlsx\",\n",
        "    sheet_name=0,\n",
        "    engine=\"openpyxl\"\n",
        ")\n",
        "\n",
        "GCF[\"Date\"] = pd.to_datetime(GCF[\"Date\"])\n",
        "GCF = GCF.set_index(\"Date\").sort_index()\n",
        "\n",
        "GCF.head()"
      ]
    },
    {
      "cell_type": "code",
      "execution_count": 5,
      "metadata": {},
      "outputs": [
        {
          "data": {
            "text/html": [
              "<div>\n",
              "<style scoped>\n",
              "    .dataframe tbody tr th:only-of-type {\n",
              "        vertical-align: middle;\n",
              "    }\n",
              "\n",
              "    .dataframe tbody tr th {\n",
              "        vertical-align: top;\n",
              "    }\n",
              "\n",
              "    .dataframe thead th {\n",
              "        text-align: right;\n",
              "    }\n",
              "</style>\n",
              "<table border=\"1\" class=\"dataframe\">\n",
              "  <thead>\n",
              "    <tr style=\"text-align: right;\">\n",
              "      <th></th>\n",
              "      <th>Mkt-RF</th>\n",
              "      <th>SMB</th>\n",
              "      <th>HML</th>\n",
              "      <th>RF</th>\n",
              "    </tr>\n",
              "    <tr>\n",
              "      <th>Date</th>\n",
              "      <th></th>\n",
              "      <th></th>\n",
              "      <th></th>\n",
              "      <th></th>\n",
              "    </tr>\n",
              "  </thead>\n",
              "  <tbody>\n",
              "    <tr>\n",
              "      <th>2020-01-02</th>\n",
              "      <td>0.86</td>\n",
              "      <td>-0.88</td>\n",
              "      <td>-0.34</td>\n",
              "      <td>0.006</td>\n",
              "    </tr>\n",
              "    <tr>\n",
              "      <th>2020-01-03</th>\n",
              "      <td>-0.67</td>\n",
              "      <td>0.38</td>\n",
              "      <td>0.01</td>\n",
              "      <td>0.006</td>\n",
              "    </tr>\n",
              "    <tr>\n",
              "      <th>2020-01-06</th>\n",
              "      <td>0.36</td>\n",
              "      <td>-0.07</td>\n",
              "      <td>-0.55</td>\n",
              "      <td>0.006</td>\n",
              "    </tr>\n",
              "    <tr>\n",
              "      <th>2020-01-07</th>\n",
              "      <td>-0.19</td>\n",
              "      <td>-0.01</td>\n",
              "      <td>-0.26</td>\n",
              "      <td>0.006</td>\n",
              "    </tr>\n",
              "    <tr>\n",
              "      <th>2020-01-08</th>\n",
              "      <td>0.47</td>\n",
              "      <td>-0.07</td>\n",
              "      <td>-0.64</td>\n",
              "      <td>0.006</td>\n",
              "    </tr>\n",
              "  </tbody>\n",
              "</table>\n",
              "</div>"
            ],
            "text/plain": [
              "            Mkt-RF   SMB   HML     RF\n",
              "Date                                 \n",
              "2020-01-02    0.86 -0.88 -0.34  0.006\n",
              "2020-01-03   -0.67  0.38  0.01  0.006\n",
              "2020-01-06    0.36 -0.07 -0.55  0.006\n",
              "2020-01-07   -0.19 -0.01 -0.26  0.006\n",
              "2020-01-08    0.47 -0.07 -0.64  0.006"
            ]
          },
          "execution_count": 5,
          "metadata": {},
          "output_type": "execute_result"
        }
      ],
      "source": [
        "CRSP = pd.read_excel(\n",
        "    \"data/CRSP.xlsx\",\n",
        "    sheet_name=0,\n",
        "    engine=\"openpyxl\"\n",
        ")\n",
        "\n",
        "CRSP[\"Date\"] = pd.to_datetime(CRSP[\"Date\"])\n",
        "CRSP = CRSP.set_index(\"Date\").sort_index()\n",
        "\n",
        "CRSP.head()"
      ]
    },
    {
      "cell_type": "markdown",
      "metadata": {},
      "source": [
        "## Calculate daily rate of return"
      ]
    },
    {
      "cell_type": "code",
      "execution_count": 6,
      "metadata": {},
      "outputs": [
        {
          "data": {
            "text/html": [
              "<div>\n",
              "<style scoped>\n",
              "    .dataframe tbody tr th:only-of-type {\n",
              "        vertical-align: middle;\n",
              "    }\n",
              "\n",
              "    .dataframe tbody tr th {\n",
              "        vertical-align: top;\n",
              "    }\n",
              "\n",
              "    .dataframe thead th {\n",
              "        text-align: right;\n",
              "    }\n",
              "</style>\n",
              "<table border=\"1\" class=\"dataframe\">\n",
              "  <thead>\n",
              "    <tr style=\"text-align: right;\">\n",
              "      <th></th>\n",
              "      <th>Close</th>\n",
              "      <th>log_return</th>\n",
              "      <th>arith_return</th>\n",
              "    </tr>\n",
              "    <tr>\n",
              "      <th>Date</th>\n",
              "      <th></th>\n",
              "      <th></th>\n",
              "      <th></th>\n",
              "    </tr>\n",
              "  </thead>\n",
              "  <tbody>\n",
              "    <tr>\n",
              "      <th>2020-01-02</th>\n",
              "      <td>54.99</td>\n",
              "      <td>NaN</td>\n",
              "      <td>NaN</td>\n",
              "    </tr>\n",
              "    <tr>\n",
              "      <th>2020-01-03</th>\n",
              "      <td>54.69</td>\n",
              "      <td>-0.005470</td>\n",
              "      <td>-0.005456</td>\n",
              "    </tr>\n",
              "    <tr>\n",
              "      <th>2020-01-06</th>\n",
              "      <td>54.67</td>\n",
              "      <td>-0.000366</td>\n",
              "      <td>-0.000366</td>\n",
              "    </tr>\n",
              "    <tr>\n",
              "      <th>2020-01-07</th>\n",
              "      <td>54.25</td>\n",
              "      <td>-0.007712</td>\n",
              "      <td>-0.007682</td>\n",
              "    </tr>\n",
              "    <tr>\n",
              "      <th>2020-01-08</th>\n",
              "      <td>54.35</td>\n",
              "      <td>0.001842</td>\n",
              "      <td>0.001843</td>\n",
              "    </tr>\n",
              "  </tbody>\n",
              "</table>\n",
              "</div>"
            ],
            "text/plain": [
              "            Close  log_return  arith_return\n",
              "Date                                       \n",
              "2020-01-02  54.99         NaN           NaN\n",
              "2020-01-03  54.69   -0.005470     -0.005456\n",
              "2020-01-06  54.67   -0.000366     -0.000366\n",
              "2020-01-07  54.25   -0.007712     -0.007682\n",
              "2020-01-08  54.35    0.001842      0.001843"
            ]
          },
          "execution_count": 6,
          "metadata": {},
          "output_type": "execute_result"
        }
      ],
      "source": [
        "# r(t+1) = ln[P(t+1) / P(t)]\n",
        "OK[\"log_return\"] = np.log(OK[\"Close\"] / OK[\"Close\"].shift(1))\n",
        "\n",
        "# r(t+1) = [P(t+1) - P(t)] / P(t)\n",
        "OK[\"arith_return\"] = OK[\"Close\"].pct_change()\n",
        "\n",
        "OK.head()"
      ]
    },
    {
      "cell_type": "code",
      "execution_count": 7,
      "metadata": {},
      "outputs": [
        {
          "data": {
            "text/html": [
              "<div>\n",
              "<style scoped>\n",
              "    .dataframe tbody tr th:only-of-type {\n",
              "        vertical-align: middle;\n",
              "    }\n",
              "\n",
              "    .dataframe tbody tr th {\n",
              "        vertical-align: top;\n",
              "    }\n",
              "\n",
              "    .dataframe thead th {\n",
              "        text-align: right;\n",
              "    }\n",
              "</style>\n",
              "<table border=\"1\" class=\"dataframe\">\n",
              "  <thead>\n",
              "    <tr style=\"text-align: right;\">\n",
              "      <th></th>\n",
              "      <th>Close</th>\n",
              "      <th>log_return</th>\n",
              "      <th>arith_return</th>\n",
              "    </tr>\n",
              "    <tr>\n",
              "      <th>Date</th>\n",
              "      <th></th>\n",
              "      <th></th>\n",
              "      <th></th>\n",
              "    </tr>\n",
              "  </thead>\n",
              "  <tbody>\n",
              "    <tr>\n",
              "      <th>2020-01-02</th>\n",
              "      <td>324.87</td>\n",
              "      <td>NaN</td>\n",
              "      <td>NaN</td>\n",
              "    </tr>\n",
              "    <tr>\n",
              "      <th>2020-01-03</th>\n",
              "      <td>322.41</td>\n",
              "      <td>-0.007601</td>\n",
              "      <td>-0.007572</td>\n",
              "    </tr>\n",
              "    <tr>\n",
              "      <th>2020-01-06</th>\n",
              "      <td>323.64</td>\n",
              "      <td>0.003808</td>\n",
              "      <td>0.003815</td>\n",
              "    </tr>\n",
              "    <tr>\n",
              "      <th>2020-01-07</th>\n",
              "      <td>322.73</td>\n",
              "      <td>-0.002816</td>\n",
              "      <td>-0.002812</td>\n",
              "    </tr>\n",
              "    <tr>\n",
              "      <th>2020-01-08</th>\n",
              "      <td>324.45</td>\n",
              "      <td>0.005315</td>\n",
              "      <td>0.005330</td>\n",
              "    </tr>\n",
              "  </tbody>\n",
              "</table>\n",
              "</div>"
            ],
            "text/plain": [
              "             Close  log_return  arith_return\n",
              "Date                                        \n",
              "2020-01-02  324.87         NaN           NaN\n",
              "2020-01-03  322.41   -0.007601     -0.007572\n",
              "2020-01-06  323.64    0.003808      0.003815\n",
              "2020-01-07  322.73   -0.002816     -0.002812\n",
              "2020-01-08  324.45    0.005315      0.005330"
            ]
          },
          "execution_count": 7,
          "metadata": {},
          "output_type": "execute_result"
        }
      ],
      "source": [
        "# r(t+1) = ln[P(t+1) / P(t)]\n",
        "SPY[\"log_return\"] = np.log(SPY[\"Close\"] / SPY[\"Close\"].shift(1))\n",
        "\n",
        "# r(t+1) = [P(t+1) - P(t)] / P(t)\n",
        "SPY[\"arith_return\"] = SPY[\"Close\"].pct_change()\n",
        "\n",
        "SPY.head()"
      ]
    },
    {
      "cell_type": "code",
      "execution_count": 8,
      "metadata": {},
      "outputs": [
        {
          "data": {
            "text/html": [
              "<div>\n",
              "<style scoped>\n",
              "    .dataframe tbody tr th:only-of-type {\n",
              "        vertical-align: middle;\n",
              "    }\n",
              "\n",
              "    .dataframe tbody tr th {\n",
              "        vertical-align: top;\n",
              "    }\n",
              "\n",
              "    .dataframe thead th {\n",
              "        text-align: right;\n",
              "    }\n",
              "</style>\n",
              "<table border=\"1\" class=\"dataframe\">\n",
              "  <thead>\n",
              "    <tr style=\"text-align: right;\">\n",
              "      <th></th>\n",
              "      <th>Close</th>\n",
              "      <th>log_return</th>\n",
              "      <th>arith_return</th>\n",
              "    </tr>\n",
              "    <tr>\n",
              "      <th>Date</th>\n",
              "      <th></th>\n",
              "      <th></th>\n",
              "      <th></th>\n",
              "    </tr>\n",
              "  </thead>\n",
              "  <tbody>\n",
              "    <tr>\n",
              "      <th>2020-01-02</th>\n",
              "      <td>1524.5</td>\n",
              "      <td>NaN</td>\n",
              "      <td>NaN</td>\n",
              "    </tr>\n",
              "    <tr>\n",
              "      <th>2020-01-03</th>\n",
              "      <td>1549.2</td>\n",
              "      <td>0.016072</td>\n",
              "      <td>0.016202</td>\n",
              "    </tr>\n",
              "    <tr>\n",
              "      <th>2020-01-06</th>\n",
              "      <td>1566.2</td>\n",
              "      <td>0.010914</td>\n",
              "      <td>0.010973</td>\n",
              "    </tr>\n",
              "    <tr>\n",
              "      <th>2020-01-07</th>\n",
              "      <td>1571.8</td>\n",
              "      <td>0.003569</td>\n",
              "      <td>0.003576</td>\n",
              "    </tr>\n",
              "    <tr>\n",
              "      <th>2020-01-08</th>\n",
              "      <td>1557.4</td>\n",
              "      <td>-0.009204</td>\n",
              "      <td>-0.009161</td>\n",
              "    </tr>\n",
              "  </tbody>\n",
              "</table>\n",
              "</div>"
            ],
            "text/plain": [
              "             Close  log_return  arith_return\n",
              "Date                                        \n",
              "2020-01-02  1524.5         NaN           NaN\n",
              "2020-01-03  1549.2    0.016072      0.016202\n",
              "2020-01-06  1566.2    0.010914      0.010973\n",
              "2020-01-07  1571.8    0.003569      0.003576\n",
              "2020-01-08  1557.4   -0.009204     -0.009161"
            ]
          },
          "execution_count": 8,
          "metadata": {},
          "output_type": "execute_result"
        }
      ],
      "source": [
        "# r(t+1) = ln[P(t+1) / P(t)]\n",
        "GCF[\"log_return\"] = np.log(GCF[\"Close\"] / GCF[\"Close\"].shift(1))\n",
        "\n",
        "# r(t+1) = [P(t+1) - P(t)] / P(t)\n",
        "GCF[\"arith_return\"] = GCF[\"Close\"].pct_change()\n",
        "\n",
        "GCF.head()"
      ]
    },
    {
      "cell_type": "markdown",
      "metadata": {},
      "source": [
        "## Stock data"
      ]
    },
    {
      "cell_type": "code",
      "execution_count": 9,
      "metadata": {},
      "outputs": [
        {
          "name": "stdout",
          "output_type": "stream",
          "text": [
            "                 Value\n",
            "Name         Coca-Cola\n",
            "Ticker              KO\n",
            "Mean          0.000193\n",
            "Median        0.000958\n",
            "Std Dev       0.015624\n",
            "Min          -0.101728\n",
            "Max           0.062783\n",
            "Skewness     -0.841427\n",
            "Kurtosis      6.966093\n",
            "Start Date  2020-01-03\n",
            "End Date    2022-12-30\n"
          ]
        }
      ],
      "source": [
        "# 选用对数收益率列并去掉 NaN\n",
        "KO_ret = OK[\"log_return\"].dropna()\n",
        "\n",
        "# 计算统计量\n",
        "stats = {\n",
        "    \"Name\"       : \"Coca-Cola\",\n",
        "    \"Ticker\"     : \"KO\",\n",
        "    \"Mean\"       : KO_ret.mean(),\n",
        "    \"Median\"     : KO_ret.median(),\n",
        "    \"Std Dev\"    : KO_ret.std(ddof=1),   # 样本标准差\n",
        "    \"Min\"        : KO_ret.min(),\n",
        "    \"Max\"        : KO_ret.max(),\n",
        "    \"Skewness\"   : KO_ret.skew(),\n",
        "    \"Kurtosis\"   : KO_ret.kurt(),\n",
        "    \"Start Date\" : KO_ret.index.min().date(),\n",
        "    \"End Date\"   : KO_ret.index.max().date()\n",
        "}\n",
        "\n",
        "\n",
        "summary = pd.DataFrame(stats, index=[\"Value\"]).T\n",
        "print(summary.to_string())"
      ]
    },
    {
      "cell_type": "code",
      "execution_count": 10,
      "metadata": {},
      "outputs": [
        {
          "name": "stdout",
          "output_type": "stream",
          "text": [
            "                       Value\n",
            "Name        SPDR S&P 500 ETF\n",
            "Ticker                   SPY\n",
            "Mean                0.000216\n",
            "Median              0.000853\n",
            "Std Dev             0.015876\n",
            "Min                -0.115887\n",
            "Max                 0.086731\n",
            "Skewness           -0.736754\n",
            "Kurtosis            9.408741\n",
            "Start Date        2020-01-03\n",
            "End Date          2022-12-30\n"
          ]
        }
      ],
      "source": [
        "# 选用对数收益率列并去掉 NaN\n",
        "SPY_ret = SPY[\"log_return\"].dropna()\n",
        "\n",
        "# 计算统计量\n",
        "stats = {\n",
        "    \"Name\"       : \"SPDR S&P 500 ETF\",\n",
        "    \"Ticker\"     : \"SPY\",\n",
        "    \"Mean\"       : SPY_ret.mean(),\n",
        "    \"Median\"     : SPY_ret.median(),\n",
        "    \"Std Dev\"    : SPY_ret.std(ddof=1),   # 样本标准差\n",
        "    \"Min\"        : SPY_ret.min(),\n",
        "    \"Max\"        : SPY_ret.max(),\n",
        "    \"Skewness\"   : SPY_ret.skew(),\n",
        "    \"Kurtosis\"   : SPY_ret.kurt(),\n",
        "    \"Start Date\" : SPY_ret.index.min().date(),\n",
        "    \"End Date\"   : SPY_ret.index.max().date()\n",
        "}\n",
        "\n",
        "summary = pd.DataFrame(stats, index=[\"Value\"]).T\n",
        "print(summary.to_string())"
      ]
    },
    {
      "cell_type": "markdown",
      "metadata": {},
      "source": [
        "## Separate the data"
      ]
    },
    {
      "cell_type": "code",
      "execution_count": 11,
      "metadata": {},
      "outputs": [
        {
          "name": "stdout",
          "output_type": "stream",
          "text": [
            "\n",
            "===== KO-train (2020-2021) =====\n",
            "          2020-2021\n",
            "Mean       0.000147\n",
            "Median     0.000751\n",
            "Std Dev    0.016984\n",
            "Min       -0.101728\n",
            "Max        0.062783\n",
            "Skewness  -0.815080\n",
            "Kurtosis   6.624366\n",
            "\n",
            "===== KO-test (2022) =====\n",
            "              2022\n",
            "Mean      0.000286\n",
            "Median    0.001399\n",
            "Std Dev   0.012482\n",
            "Min      -0.072169\n",
            "Max       0.037942\n",
            "Skewness -0.835994\n",
            "Kurtosis  4.678076\n"
          ]
        }
      ],
      "source": [
        "# --- 函数：计算描述性统计 -------------------------------------------------\n",
        "def get_stats(series):\n",
        "    return {\n",
        "        \"Mean\"     : series.mean(),\n",
        "        \"Median\"   : series.median(),\n",
        "        \"Std Dev\"  : series.std(ddof=1),\n",
        "        \"Min\"      : series.min(),\n",
        "        \"Max\"      : series.max(),\n",
        "        \"Skewness\" : series.skew(),\n",
        "        \"Kurtosis\" : series.kurt()\n",
        "    }\n",
        "\n",
        "# --- 1. 按时间切片 --------------------------------------------------------\n",
        "train_OK = OK.loc[\"2020\":\"2021\", \"log_return\"].dropna()   # 前两年\n",
        "test_OK  = OK.loc[\"2022\", \"log_return\"].dropna() # 最后一年\n",
        "\n",
        "# --- 2. 生成统计表 ---------------------------------------------------------\n",
        "stats_train_OK = pd.DataFrame(get_stats(train_OK), index=[\"2020-2021\"]).T\n",
        "stats_test_OK  = pd.DataFrame(get_stats(test_OK),  index=[\"2022\"]).T\n",
        "\n",
        "print(\"\\n===== KO-train (2020-2021) =====\")\n",
        "print(stats_train_OK.to_string())\n",
        "\n",
        "print(\"\\n===== KO-test (2022) =====\")\n",
        "print(stats_test_OK.to_string())"
      ]
    },
    {
      "cell_type": "code",
      "execution_count": 12,
      "metadata": {},
      "outputs": [
        {
          "name": "stdout",
          "output_type": "stream",
          "text": [
            "\n",
            "===== SPY-train (2020-2021) =====\n",
            "          2020-2021\n",
            "Mean       0.000754\n",
            "Median     0.001648\n",
            "Std Dev    0.016144\n",
            "Min       -0.115887\n",
            "Max        0.086731\n",
            "Skewness  -1.061486\n",
            "Kurtosis  13.253851\n",
            "\n",
            "===== SPY-test (2022) =====\n",
            "              2022\n",
            "Mean     -0.000863\n",
            "Median   -0.001815\n",
            "Std Dev   0.015298\n",
            "Min      -0.044456\n",
            "Max       0.053497\n",
            "Skewness -0.001245\n",
            "Kurtosis  0.332860\n"
          ]
        }
      ],
      "source": [
        "# --- 1. 按时间切片 --------------------------------------------------------\n",
        "train_SPY = SPY.loc[\"2020\":\"2021\", \"log_return\"].dropna()   # 前两年\n",
        "test_SPY  = SPY.loc[\"2022\", \"log_return\"].dropna() # 最后一年\n",
        "\n",
        "# --- 2. 生成统计表 ---------------------------------------------------------\n",
        "stats_train_SPY = pd.DataFrame(get_stats(train_SPY), index=[\"2020-2021\"]).T\n",
        "stats_test_SPY  = pd.DataFrame(get_stats(test_SPY),  index=[\"2022\"]).T\n",
        "\n",
        "print(\"\\n===== SPY-train (2020-2021) =====\")\n",
        "print(stats_train_SPY.to_string())\n",
        "\n",
        "print(\"\\n===== SPY-test (2022) =====\")\n",
        "print(stats_test_SPY.to_string())"
      ]
    },
    {
      "cell_type": "code",
      "execution_count": 13,
      "metadata": {},
      "outputs": [],
      "source": [
        "# --- 按时间切片 --------------------------------------------------------\n",
        "train_GCF = GCF.loc[\"2020\":\"2021\", \"log_return\"].dropna()   # 前两年\n",
        "test_GCF  = GCF.loc[\"2022\", \"log_return\"].dropna() # 最后一年\n",
        "\n",
        "\n",
        "CRSP[\"Mkt_Total\"] = CRSP[\"Mkt-RF\"] + CRSP[\"RF\"]\n",
        "train_CRSP = CRSP.loc[\"2020\":\"2021\", \"Mkt_Total\"].dropna()   # 前两年\n",
        "test_CRSP  = CRSP.loc[\"2022\", \"Mkt_Total\"].dropna()          # 最后一年"
      ]
    },
    {
      "cell_type": "markdown",
      "metadata": {},
      "source": [
        "## OLS & Newey-West"
      ]
    },
    {
      "cell_type": "markdown",
      "metadata": {},
      "source": [
        "### OK"
      ]
    },
    {
      "cell_type": "code",
      "execution_count": 14,
      "metadata": {},
      "outputs": [
        {
          "name": "stdout",
          "output_type": "stream",
          "text": [
            "                            OLS Regression Results                            \n",
            "==============================================================================\n",
            "Dep. Variable:                      y   R-squared:                       0.002\n",
            "Model:                            OLS   Adj. R-squared:                 -0.000\n",
            "Method:                 Least Squares   F-statistic:                    0.7580\n",
            "Date:                Wed, 18 Jun 2025   Prob (F-statistic):              0.384\n",
            "Time:                        21:10:47   Log-Likelihood:                 1339.8\n",
            "No. Observations:                 504   AIC:                            -2676.\n",
            "Df Residuals:                     502   BIC:                            -2667.\n",
            "Df Model:                           1                                         \n",
            "Covariance Type:            nonrobust                                         \n",
            "==============================================================================\n",
            "                 coef    std err          t      P>|t|      [0.025      0.975]\n",
            "------------------------------------------------------------------------------\n",
            "const         -2.3085      2.652     -0.871      0.384      -7.518       2.901\n",
            "x1          3.129e-06   3.59e-06      0.871      0.384   -3.93e-06    1.02e-05\n",
            "==============================================================================\n",
            "Omnibus:                      112.389   Durbin-Watson:                   2.092\n",
            "Prob(Omnibus):                  0.000   Jarque-Bera (JB):              908.295\n",
            "Skew:                          -0.718   Prob(JB):                    5.84e-198\n",
            "Kurtosis:                       9.418   Cond. No.                     2.59e+09\n",
            "==============================================================================\n",
            "\n",
            "Notes:\n",
            "[1] Standard Errors assume that the covariance matrix of the errors is correctly specified.\n",
            "[2] The condition number is large, 2.59e+09. This might indicate that there are\n",
            "strong multicollinearity or other numerical problems.\n"
          ]
        }
      ],
      "source": [
        "# X: intercept + time trend based on the DatetimeIndex                            \n",
        "t_train = train_OK.index.map(pd.Timestamp.toordinal).to_numpy() # convert dates → integers\n",
        "X_train = sm.add_constant(t_train) # add intercept\n",
        "\n",
        "y_train = train_OK.values\n",
        "\n",
        "# OLS\n",
        "model = sm.OLS(y_train, X_train).fit()\n",
        "print(model.summary())\n"
      ]
    },
    {
      "cell_type": "code",
      "execution_count": 15,
      "metadata": {
        "trusted": true
      },
      "outputs": [
        {
          "name": "stdout",
          "output_type": "stream",
          "text": [
            "                            OLS Regression Results                            \n",
            "==============================================================================\n",
            "Dep. Variable:                      y   R-squared:                       0.002\n",
            "Model:                            OLS   Adj. R-squared:                 -0.000\n",
            "Method:                 Least Squares   F-statistic:                    0.5620\n",
            "Date:                Wed, 18 Jun 2025   Prob (F-statistic):              0.454\n",
            "Time:                        21:10:47   Log-Likelihood:                 1339.8\n",
            "No. Observations:                 504   AIC:                            -2676.\n",
            "Df Residuals:                     502   BIC:                            -2667.\n",
            "Df Model:                           1                                         \n",
            "Covariance Type:                  HAC                                         \n",
            "==============================================================================\n",
            "                 coef    std err          t      P>|t|      [0.025      0.975]\n",
            "------------------------------------------------------------------------------\n",
            "const         -2.3085      3.080     -0.750      0.454      -8.359       3.743\n",
            "x1          3.129e-06   4.17e-06      0.750      0.454   -5.07e-06    1.13e-05\n",
            "==============================================================================\n",
            "Omnibus:                      112.389   Durbin-Watson:                   2.092\n",
            "Prob(Omnibus):                  0.000   Jarque-Bera (JB):              908.295\n",
            "Skew:                          -0.718   Prob(JB):                    5.84e-198\n",
            "Kurtosis:                       9.418   Cond. No.                     2.59e+09\n",
            "==============================================================================\n",
            "\n",
            "Notes:\n",
            "[1] Standard Errors are heteroscedasticity and autocorrelation robust (HAC) using 1 lags and without small sample correction\n",
            "[2] The condition number is large, 2.59e+09. This might indicate that there are\n",
            "strong multicollinearity or other numerical problems.\n"
          ]
        }
      ],
      "source": [
        "hac_cov = sw.cov_hac(model, 1)\n",
        "\n",
        "s = model.get_robustcov_results(cov_type='HAC', maxlags=1)\n",
        "print(s.summary())"
      ]
    },
    {
      "cell_type": "markdown",
      "metadata": {},
      "source": [
        "## 4 estimated regressions"
      ]
    },
    {
      "cell_type": "markdown",
      "metadata": {},
      "source": [
        "### (1) Intercept, benchmark returns"
      ]
    },
    {
      "cell_type": "code",
      "execution_count": 16,
      "metadata": {},
      "outputs": [
        {
          "name": "stdout",
          "output_type": "stream",
          "text": [
            "=== OLS ===\n",
            "                            OLS Regression Results                            \n",
            "==============================================================================\n",
            "Dep. Variable:              KO_logRet   R-squared:                       0.571\n",
            "Model:                            OLS   Adj. R-squared:                  0.571\n",
            "Method:                 Least Squares   F-statistic:                     669.3\n",
            "Date:                Wed, 18 Jun 2025   Prob (F-statistic):           2.05e-94\n",
            "Time:                        21:10:47   Log-Likelihood:                 1552.9\n",
            "No. Observations:                 504   AIC:                            -3102.\n",
            "Df Residuals:                     502   BIC:                            -3093.\n",
            "Df Model:                           1                                         \n",
            "Covariance Type:            nonrobust                                         \n",
            "==============================================================================\n",
            "                 coef    std err          t      P>|t|      [0.025      0.975]\n",
            "------------------------------------------------------------------------------\n",
            "Intercept     -0.0005      0.000     -0.912      0.362      -0.001       0.001\n",
            "SPY_logRet     0.7953      0.031     25.871      0.000       0.735       0.856\n",
            "==============================================================================\n",
            "Omnibus:                       75.347   Durbin-Watson:                   1.873\n",
            "Prob(Omnibus):                  0.000   Jarque-Bera (JB):              551.441\n",
            "Skew:                          -0.377   Prob(JB):                    1.80e-120\n",
            "Kurtosis:                       8.069   Cond. No.                         62.0\n",
            "==============================================================================\n",
            "\n",
            "Notes:\n",
            "[1] Standard Errors assume that the covariance matrix of the errors is correctly specified.\n"
          ]
        }
      ],
      "source": [
        "train1 = pd.concat([\n",
        "    train_OK.rename(\"KO_logRet\"),\n",
        "    train_SPY.rename(\"SPY_logRet\")\n",
        "], axis=1)\n",
        "\n",
        "y1 = train1[\"KO_logRet\"]\n",
        "X1 = train1[\"SPY_logRet\"]\n",
        "\n",
        "X1c = (sm.add_constant(X1, has_constant='add')\n",
        "          .rename(columns={\"const\": \"Intercept\"}))\n",
        "\n",
        "# OLS\n",
        "ols1 = sm.OLS(y1, X1c).fit()\n",
        "print(\"=== OLS ===\")\n",
        "print(ols1.summary())"
      ]
    },
    {
      "cell_type": "code",
      "execution_count": 17,
      "metadata": {},
      "outputs": [
        {
          "name": "stdout",
          "output_type": "stream",
          "text": [
            "\n",
            "=== Newey-West (lag = 1) ===\n",
            "                            OLS Regression Results                            \n",
            "==============================================================================\n",
            "Dep. Variable:              KO_logRet   R-squared:                       0.571\n",
            "Model:                            OLS   Adj. R-squared:                  0.571\n",
            "Method:                 Least Squares   F-statistic:                     250.8\n",
            "Date:                Wed, 18 Jun 2025   Prob (F-statistic):           4.15e-46\n",
            "Time:                        21:10:47   Log-Likelihood:                 1552.9\n",
            "No. Observations:                 504   AIC:                            -3102.\n",
            "Df Residuals:                     502   BIC:                            -3093.\n",
            "Df Model:                           1                                         \n",
            "Covariance Type:                  HAC                                         \n",
            "==============================================================================\n",
            "                 coef    std err          t      P>|t|      [0.025      0.975]\n",
            "------------------------------------------------------------------------------\n",
            "Intercept     -0.0005      0.001     -0.880      0.379      -0.001       0.001\n",
            "SPY_logRet     0.7953      0.050     15.837      0.000       0.697       0.894\n",
            "==============================================================================\n",
            "Omnibus:                       75.347   Durbin-Watson:                   1.873\n",
            "Prob(Omnibus):                  0.000   Jarque-Bera (JB):              551.441\n",
            "Skew:                          -0.377   Prob(JB):                    1.80e-120\n",
            "Kurtosis:                       8.069   Cond. No.                         62.0\n",
            "==============================================================================\n",
            "\n",
            "Notes:\n",
            "[1] Standard Errors are heteroscedasticity and autocorrelation robust (HAC) using 1 lags and without small sample correction\n"
          ]
        }
      ],
      "source": [
        "# Newey-West (lag = 1)\n",
        "hac1 = ols1.get_robustcov_results(cov_type=\"HAC\", maxlags=1)\n",
        "print(\"\\n=== Newey-West (lag = 1) ===\")\n",
        "print(hac1.summary())"
      ]
    },
    {
      "cell_type": "markdown",
      "metadata": {},
      "source": [
        "### (2) Intercept, CRSP returns"
      ]
    },
    {
      "cell_type": "code",
      "execution_count": 18,
      "metadata": {},
      "outputs": [
        {
          "name": "stdout",
          "output_type": "stream",
          "text": [
            "\n",
            "=== OLS ===\n",
            "                            OLS Regression Results                            \n",
            "==============================================================================\n",
            "Dep. Variable:              KO_logRet   R-squared:                       0.518\n",
            "Model:                            OLS   Adj. R-squared:                  0.517\n",
            "Method:                 Least Squares   F-statistic:                     538.7\n",
            "Date:                Wed, 18 Jun 2025   Prob (F-statistic):           1.67e-81\n",
            "Time:                        21:10:48   Log-Likelihood:                 1523.1\n",
            "No. Observations:                 504   AIC:                            -3042.\n",
            "Df Residuals:                     502   BIC:                            -3034.\n",
            "Df Model:                           1                                         \n",
            "Covariance Type:            nonrobust                                         \n",
            "===============================================================================\n",
            "                  coef    std err          t      P>|t|      [0.025      0.975]\n",
            "-------------------------------------------------------------------------------\n",
            "Intercept      -0.0006      0.001     -1.080      0.281      -0.002       0.000\n",
            "CRSP_logRet     0.0074      0.000     23.210      0.000       0.007       0.008\n",
            "==============================================================================\n",
            "Omnibus:                       93.962   Durbin-Watson:                   1.834\n",
            "Prob(Omnibus):                  0.000   Jarque-Bera (JB):              785.599\n",
            "Skew:                          -0.528   Prob(JB):                    2.57e-171\n",
            "Kurtosis:                       9.024   Cond. No.                         1.67\n",
            "==============================================================================\n",
            "\n",
            "Notes:\n",
            "[1] Standard Errors assume that the covariance matrix of the errors is correctly specified.\n"
          ]
        }
      ],
      "source": [
        "train2 = pd.concat([\n",
        "    train_OK.rename(\"KO_logRet\"),\n",
        "    train_CRSP.rename(\"CRSP_logRet\")\n",
        "], axis=1).dropna()\n",
        "\n",
        "y2  = train2[\"KO_logRet\"]\n",
        "X2  = train2[\"CRSP_logRet\"]\n",
        "X2c = (sm.add_constant(X2, has_constant='add')\n",
        "          .rename(columns={\"const\": \"Intercept\"}))\n",
        "\n",
        "ols2 = sm.OLS(y2, X2c).fit()\n",
        "print(\"\\n=== OLS ===\")\n",
        "print(ols2.summary())"
      ]
    },
    {
      "cell_type": "code",
      "execution_count": 19,
      "metadata": {},
      "outputs": [
        {
          "name": "stdout",
          "output_type": "stream",
          "text": [
            "\n",
            "=== Newey-West (lag = 1) ===\n",
            "                            OLS Regression Results                            \n",
            "==============================================================================\n",
            "Dep. Variable:              KO_logRet   R-squared:                       0.518\n",
            "Model:                            OLS   Adj. R-squared:                  0.517\n",
            "Method:                 Least Squares   F-statistic:                     227.0\n",
            "Date:                Wed, 18 Jun 2025   Prob (F-statistic):           1.35e-42\n",
            "Time:                        21:10:48   Log-Likelihood:                 1523.1\n",
            "No. Observations:                 504   AIC:                            -3042.\n",
            "Df Residuals:                     502   BIC:                            -3034.\n",
            "Df Model:                           1                                         \n",
            "Covariance Type:                  HAC                                         \n",
            "===============================================================================\n",
            "                  coef    std err          t      P>|t|      [0.025      0.975]\n",
            "-------------------------------------------------------------------------------\n",
            "Intercept      -0.0006      0.001     -1.033      0.302      -0.002       0.001\n",
            "CRSP_logRet     0.0074      0.000     15.067      0.000       0.006       0.008\n",
            "==============================================================================\n",
            "Omnibus:                       93.962   Durbin-Watson:                   1.834\n",
            "Prob(Omnibus):                  0.000   Jarque-Bera (JB):              785.599\n",
            "Skew:                          -0.528   Prob(JB):                    2.57e-171\n",
            "Kurtosis:                       9.024   Cond. No.                         1.67\n",
            "==============================================================================\n",
            "\n",
            "Notes:\n",
            "[1] Standard Errors are heteroscedasticity and autocorrelation robust (HAC) using 1 lags and without small sample correction\n"
          ]
        }
      ],
      "source": [
        "# Newey-West (lag = 1)\n",
        "hac2 = ols2.get_robustcov_results(cov_type=\"HAC\", maxlags=1)\n",
        "print(\"\\n=== Newey-West (lag = 1) ===\")\n",
        "print(hac2.summary())"
      ]
    },
    {
      "cell_type": "markdown",
      "metadata": {},
      "source": [
        "### (3) Intercept, benchmark returns, X2 returns"
      ]
    },
    {
      "cell_type": "code",
      "execution_count": 20,
      "metadata": {},
      "outputs": [
        {
          "name": "stdout",
          "output_type": "stream",
          "text": [
            "=== OLS ===\n",
            "                            OLS Regression Results                            \n",
            "==============================================================================\n",
            "Dep. Variable:              KO_logRet   R-squared:                       0.572\n",
            "Model:                            OLS   Adj. R-squared:                  0.570\n",
            "Method:                 Least Squares   F-statistic:                     334.3\n",
            "Date:                Wed, 18 Jun 2025   Prob (F-statistic):           5.85e-93\n",
            "Time:                        21:10:48   Log-Likelihood:                 1553.0\n",
            "No. Observations:                 504   AIC:                            -3100.\n",
            "Df Residuals:                     501   BIC:                            -3087.\n",
            "Df Model:                           2                                         \n",
            "Covariance Type:            nonrobust                                         \n",
            "===============================================================================\n",
            "                  coef    std err          t      P>|t|      [0.025      0.975]\n",
            "-------------------------------------------------------------------------------\n",
            "Intercept      -0.0005      0.000     -0.923      0.356      -0.001       0.001\n",
            "SPY_logRet      0.7930      0.031     25.507      0.000       0.732       0.854\n",
            "Gold_logRet     0.0218      0.043      0.506      0.613      -0.063       0.106\n",
            "==============================================================================\n",
            "Omnibus:                       74.880   Durbin-Watson:                   1.875\n",
            "Prob(Omnibus):                  0.000   Jarque-Bera (JB):              564.862\n",
            "Skew:                          -0.357   Prob(JB):                    2.20e-123\n",
            "Kurtosis:                       8.137   Cond. No.                         87.7\n",
            "==============================================================================\n",
            "\n",
            "Notes:\n",
            "[1] Standard Errors assume that the covariance matrix of the errors is correctly specified.\n"
          ]
        }
      ],
      "source": [
        "train3 = pd.concat([\n",
        "    train_OK.rename(\"KO_logRet\"),\n",
        "    train_SPY.rename(\"SPY_logRet\"),\n",
        "    train_GCF.rename(\"Gold_logRet\")\n",
        "], axis=1)\n",
        "\n",
        "y3 = train3[\"KO_logRet\"]\n",
        "X3 = train3[[\"SPY_logRet\", \"Gold_logRet\"]]\n",
        "\n",
        "X3c = (sm.add_constant(X3, has_constant='add')\n",
        "          .rename(columns={\"const\": \"Intercept\"}))\n",
        "\n",
        "# OLS\n",
        "ols3 = sm.OLS(y3, X3c).fit()\n",
        "print(\"=== OLS ===\")\n",
        "print(ols3.summary())"
      ]
    },
    {
      "cell_type": "code",
      "execution_count": 21,
      "metadata": {},
      "outputs": [
        {
          "name": "stdout",
          "output_type": "stream",
          "text": [
            "\n",
            "=== Newey-West (lag = 1) ===\n",
            "                            OLS Regression Results                            \n",
            "==============================================================================\n",
            "Dep. Variable:              KO_logRet   R-squared:                       0.572\n",
            "Model:                            OLS   Adj. R-squared:                  0.570\n",
            "Method:                 Least Squares   F-statistic:                     132.2\n",
            "Date:                Wed, 18 Jun 2025   Prob (F-statistic):           7.70e-47\n",
            "Time:                        21:10:48   Log-Likelihood:                 1553.0\n",
            "No. Observations:                 504   AIC:                            -3100.\n",
            "Df Residuals:                     501   BIC:                            -3087.\n",
            "Df Model:                           2                                         \n",
            "Covariance Type:                  HAC                                         \n",
            "===============================================================================\n",
            "                  coef    std err          t      P>|t|      [0.025      0.975]\n",
            "-------------------------------------------------------------------------------\n",
            "Intercept      -0.0005      0.001     -0.886      0.376      -0.001       0.001\n",
            "SPY_logRet      0.7930      0.052     15.197      0.000       0.691       0.896\n",
            "Gold_logRet     0.0218      0.074      0.296      0.768      -0.123       0.166\n",
            "==============================================================================\n",
            "Omnibus:                       74.880   Durbin-Watson:                   1.875\n",
            "Prob(Omnibus):                  0.000   Jarque-Bera (JB):              564.862\n",
            "Skew:                          -0.357   Prob(JB):                    2.20e-123\n",
            "Kurtosis:                       8.137   Cond. No.                         87.7\n",
            "==============================================================================\n",
            "\n",
            "Notes:\n",
            "[1] Standard Errors are heteroscedasticity and autocorrelation robust (HAC) using 1 lags and without small sample correction\n"
          ]
        }
      ],
      "source": [
        "# Newey-West (lag = 1)\n",
        "hac3 = ols3.get_robustcov_results(cov_type=\"HAC\", maxlags=1)\n",
        "print(\"\\n=== Newey-West (lag = 1) ===\")\n",
        "print(hac3.summary())"
      ]
    },
    {
      "cell_type": "markdown",
      "metadata": {},
      "source": [
        "### (4) Intercept, CRSP returns, X2 returns"
      ]
    },
    {
      "cell_type": "code",
      "execution_count": 22,
      "metadata": {},
      "outputs": [
        {
          "name": "stdout",
          "output_type": "stream",
          "text": [
            "\n",
            "=== OLS ===\n",
            "                            OLS Regression Results                            \n",
            "==============================================================================\n",
            "Dep. Variable:              KO_logRet   R-squared:                       0.518\n",
            "Model:                            OLS   Adj. R-squared:                  0.516\n",
            "Method:                 Least Squares   F-statistic:                     269.0\n",
            "Date:                Wed, 18 Jun 2025   Prob (F-statistic):           4.51e-80\n",
            "Time:                        21:10:48   Log-Likelihood:                 1523.2\n",
            "No. Observations:                 504   AIC:                            -3040.\n",
            "Df Residuals:                     501   BIC:                            -3028.\n",
            "Df Model:                           2                                         \n",
            "Covariance Type:            nonrobust                                         \n",
            "===============================================================================\n",
            "                  coef    std err          t      P>|t|      [0.025      0.975]\n",
            "-------------------------------------------------------------------------------\n",
            "Intercept      -0.0006      0.001     -1.088      0.277      -0.002       0.000\n",
            "CRSP_logRet     0.0073      0.000     22.847      0.000       0.007       0.008\n",
            "Gold_logRet     0.0178      0.046      0.390      0.697      -0.072       0.108\n",
            "==============================================================================\n",
            "Omnibus:                       93.302   Durbin-Watson:                   1.836\n",
            "Prob(Omnibus):                  0.000   Jarque-Bera (JB):              798.132\n",
            "Skew:                          -0.512   Prob(JB):                    4.87e-174\n",
            "Kurtosis:                       9.079   Cond. No.                         144.\n",
            "==============================================================================\n",
            "\n",
            "Notes:\n",
            "[1] Standard Errors assume that the covariance matrix of the errors is correctly specified.\n"
          ]
        }
      ],
      "source": [
        "train4 = pd.concat([\n",
        "    train_OK.rename(\"KO_logRet\"),\n",
        "    train_CRSP.rename(\"CRSP_logRet\"),\n",
        "    train_GCF.rename(\"Gold_logRet\")\n",
        "], axis=1).dropna()\n",
        "\n",
        "y4  = train4[\"KO_logRet\"]\n",
        "X4  = train4[[\"CRSP_logRet\", \"Gold_logRet\"]]\n",
        "X4c = (sm.add_constant(X4, has_constant='add')\n",
        "          .rename(columns={\"const\": \"Intercept\"}))\n",
        "\n",
        "ols4 = sm.OLS(y4, X4c).fit()\n",
        "print(\"\\n=== OLS ===\")\n",
        "print(ols4.summary())"
      ]
    },
    {
      "cell_type": "code",
      "execution_count": 23,
      "metadata": {},
      "outputs": [
        {
          "name": "stdout",
          "output_type": "stream",
          "text": [
            "\n",
            "=== Newey-West (lag = 1) ===\n",
            "                            OLS Regression Results                            \n",
            "==============================================================================\n",
            "Dep. Variable:              KO_logRet   R-squared:                       0.518\n",
            "Model:                            OLS   Adj. R-squared:                  0.516\n",
            "Method:                 Least Squares   F-statistic:                     117.3\n",
            "Date:                Wed, 18 Jun 2025   Prob (F-statistic):           1.60e-42\n",
            "Time:                        21:10:48   Log-Likelihood:                 1523.2\n",
            "No. Observations:                 504   AIC:                            -3040.\n",
            "Df Residuals:                     501   BIC:                            -3028.\n",
            "Df Model:                           2                                         \n",
            "Covariance Type:                  HAC                                         \n",
            "===============================================================================\n",
            "                  coef    std err          t      P>|t|      [0.025      0.975]\n",
            "-------------------------------------------------------------------------------\n",
            "Intercept      -0.0006      0.001     -1.035      0.301      -0.002       0.001\n",
            "CRSP_logRet     0.0073      0.001     14.464      0.000       0.006       0.008\n",
            "Gold_logRet     0.0178      0.078      0.229      0.819      -0.135       0.170\n",
            "==============================================================================\n",
            "Omnibus:                       93.302   Durbin-Watson:                   1.836\n",
            "Prob(Omnibus):                  0.000   Jarque-Bera (JB):              798.132\n",
            "Skew:                          -0.512   Prob(JB):                    4.87e-174\n",
            "Kurtosis:                       9.079   Cond. No.                         144.\n",
            "==============================================================================\n",
            "\n",
            "Notes:\n",
            "[1] Standard Errors are heteroscedasticity and autocorrelation robust (HAC) using 1 lags and without small sample correction\n"
          ]
        }
      ],
      "source": [
        "hac4 = ols4.get_robustcov_results(cov_type=\"HAC\", maxlags=1)\n",
        "print(\"\\n=== Newey-West (lag = 1) ===\")\n",
        "print(hac4.summary())"
      ]
    }
  ],
  "metadata": {
    "kernelspec": {
      "display_name": ".venv",
      "language": "python",
      "name": "python3"
    },
    "language_info": {
      "codemirror_mode": {
        "name": "ipython",
        "version": 3
      },
      "file_extension": ".py",
      "mimetype": "text/x-python",
      "name": "python",
      "nbconvert_exporter": "python",
      "pygments_lexer": "ipython3",
      "version": "3.12.3"
    }
  },
  "nbformat": 4,
  "nbformat_minor": 4
}
