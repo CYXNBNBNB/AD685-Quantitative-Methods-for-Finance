{
  "cells": [
    {
      "cell_type": "code",
      "execution_count": 1,
      "metadata": {
        "trusted": true
      },
      "outputs": [],
      "source": [
        "import statsmodels.api as sm\n",
        "import statsmodels.stats.sandwich_covariance as sw\n",
        "import numpy as np\n",
        "import pandas as pd"
      ]
    },
    {
      "cell_type": "markdown",
      "metadata": {},
      "source": [
        "## Import data"
      ]
    },
    {
      "cell_type": "code",
      "execution_count": 2,
      "metadata": {
        "trusted": true
      },
      "outputs": [
        {
          "data": {
            "text/html": [
              "<div>\n",
              "<style scoped>\n",
              "    .dataframe tbody tr th:only-of-type {\n",
              "        vertical-align: middle;\n",
              "    }\n",
              "\n",
              "    .dataframe tbody tr th {\n",
              "        vertical-align: top;\n",
              "    }\n",
              "\n",
              "    .dataframe thead th {\n",
              "        text-align: right;\n",
              "    }\n",
              "</style>\n",
              "<table border=\"1\" class=\"dataframe\">\n",
              "  <thead>\n",
              "    <tr style=\"text-align: right;\">\n",
              "      <th></th>\n",
              "      <th>Close</th>\n",
              "    </tr>\n",
              "    <tr>\n",
              "      <th>Date</th>\n",
              "      <th></th>\n",
              "    </tr>\n",
              "  </thead>\n",
              "  <tbody>\n",
              "    <tr>\n",
              "      <th>2020-01-02</th>\n",
              "      <td>54.99</td>\n",
              "    </tr>\n",
              "    <tr>\n",
              "      <th>2020-01-03</th>\n",
              "      <td>54.69</td>\n",
              "    </tr>\n",
              "    <tr>\n",
              "      <th>2020-01-06</th>\n",
              "      <td>54.67</td>\n",
              "    </tr>\n",
              "    <tr>\n",
              "      <th>2020-01-07</th>\n",
              "      <td>54.25</td>\n",
              "    </tr>\n",
              "    <tr>\n",
              "      <th>2020-01-08</th>\n",
              "      <td>54.35</td>\n",
              "    </tr>\n",
              "  </tbody>\n",
              "</table>\n",
              "</div>"
            ],
            "text/plain": [
              "            Close\n",
              "Date             \n",
              "2020-01-02  54.99\n",
              "2020-01-03  54.69\n",
              "2020-01-06  54.67\n",
              "2020-01-07  54.25\n",
              "2020-01-08  54.35"
            ]
          },
          "execution_count": 2,
          "metadata": {},
          "output_type": "execute_result"
        }
      ],
      "source": [
        "OK = pd.read_excel(\n",
        "    \"data/OK.xlsx\",\n",
        "    sheet_name=0,\n",
        "    engine=\"openpyxl\"\n",
        ")\n",
        "\n",
        "OK[\"Date\"] = pd.to_datetime(OK[\"Date\"])\n",
        "OK = OK.set_index(\"Date\").sort_index()\n",
        "\n",
        "OK.head()"
      ]
    },
    {
      "cell_type": "code",
      "execution_count": 3,
      "metadata": {},
      "outputs": [
        {
          "data": {
            "text/html": [
              "<div>\n",
              "<style scoped>\n",
              "    .dataframe tbody tr th:only-of-type {\n",
              "        vertical-align: middle;\n",
              "    }\n",
              "\n",
              "    .dataframe tbody tr th {\n",
              "        vertical-align: top;\n",
              "    }\n",
              "\n",
              "    .dataframe thead th {\n",
              "        text-align: right;\n",
              "    }\n",
              "</style>\n",
              "<table border=\"1\" class=\"dataframe\">\n",
              "  <thead>\n",
              "    <tr style=\"text-align: right;\">\n",
              "      <th></th>\n",
              "      <th>Close</th>\n",
              "    </tr>\n",
              "    <tr>\n",
              "      <th>Date</th>\n",
              "      <th></th>\n",
              "    </tr>\n",
              "  </thead>\n",
              "  <tbody>\n",
              "    <tr>\n",
              "      <th>2020-01-02</th>\n",
              "      <td>3257.85</td>\n",
              "    </tr>\n",
              "    <tr>\n",
              "      <th>2020-01-03</th>\n",
              "      <td>3234.85</td>\n",
              "    </tr>\n",
              "    <tr>\n",
              "      <th>2020-01-06</th>\n",
              "      <td>3246.28</td>\n",
              "    </tr>\n",
              "    <tr>\n",
              "      <th>2020-01-07</th>\n",
              "      <td>3237.18</td>\n",
              "    </tr>\n",
              "    <tr>\n",
              "      <th>2020-01-08</th>\n",
              "      <td>3253.05</td>\n",
              "    </tr>\n",
              "  </tbody>\n",
              "</table>\n",
              "</div>"
            ],
            "text/plain": [
              "              Close\n",
              "Date               \n",
              "2020-01-02  3257.85\n",
              "2020-01-03  3234.85\n",
              "2020-01-06  3246.28\n",
              "2020-01-07  3237.18\n",
              "2020-01-08  3253.05"
            ]
          },
          "execution_count": 3,
          "metadata": {},
          "output_type": "execute_result"
        }
      ],
      "source": [
        "SP500 = pd.read_excel(\n",
        "    \"data/SP500.xlsx\",\n",
        "    sheet_name=0,\n",
        "    engine=\"openpyxl\"\n",
        ")\n",
        "\n",
        "SP500[\"Date\"] = pd.to_datetime(SP500[\"Date\"])\n",
        "SP500 = SP500.set_index(\"Date\").sort_index()\n",
        "\n",
        "SP500.head()"
      ]
    },
    {
      "cell_type": "code",
      "execution_count": 18,
      "metadata": {},
      "outputs": [
        {
          "data": {
            "text/html": [
              "<div>\n",
              "<style scoped>\n",
              "    .dataframe tbody tr th:only-of-type {\n",
              "        vertical-align: middle;\n",
              "    }\n",
              "\n",
              "    .dataframe tbody tr th {\n",
              "        vertical-align: top;\n",
              "    }\n",
              "\n",
              "    .dataframe thead th {\n",
              "        text-align: right;\n",
              "    }\n",
              "</style>\n",
              "<table border=\"1\" class=\"dataframe\">\n",
              "  <thead>\n",
              "    <tr style=\"text-align: right;\">\n",
              "      <th></th>\n",
              "      <th>Close</th>\n",
              "    </tr>\n",
              "    <tr>\n",
              "      <th>Date</th>\n",
              "      <th></th>\n",
              "    </tr>\n",
              "  </thead>\n",
              "  <tbody>\n",
              "    <tr>\n",
              "      <th>2020-01-02</th>\n",
              "      <td>1524.5</td>\n",
              "    </tr>\n",
              "    <tr>\n",
              "      <th>2020-01-03</th>\n",
              "      <td>1549.2</td>\n",
              "    </tr>\n",
              "    <tr>\n",
              "      <th>2020-01-06</th>\n",
              "      <td>1566.2</td>\n",
              "    </tr>\n",
              "    <tr>\n",
              "      <th>2020-01-07</th>\n",
              "      <td>1571.8</td>\n",
              "    </tr>\n",
              "    <tr>\n",
              "      <th>2020-01-08</th>\n",
              "      <td>1557.4</td>\n",
              "    </tr>\n",
              "  </tbody>\n",
              "</table>\n",
              "</div>"
            ],
            "text/plain": [
              "             Close\n",
              "Date              \n",
              "2020-01-02  1524.5\n",
              "2020-01-03  1549.2\n",
              "2020-01-06  1566.2\n",
              "2020-01-07  1571.8\n",
              "2020-01-08  1557.4"
            ]
          },
          "execution_count": 18,
          "metadata": {},
          "output_type": "execute_result"
        }
      ],
      "source": [
        "GCF = pd.read_excel(\n",
        "    \"data/GCF.xlsx\",\n",
        "    sheet_name=0,\n",
        "    engine=\"openpyxl\"\n",
        ")\n",
        "\n",
        "GCF[\"Date\"] = pd.to_datetime(GCF[\"Date\"])\n",
        "GCF = GCF.set_index(\"Date\").sort_index()\n",
        "\n",
        "GCF.head()"
      ]
    },
    {
      "cell_type": "markdown",
      "metadata": {},
      "source": [
        "## Calculate daily rate of return"
      ]
    },
    {
      "cell_type": "code",
      "execution_count": 4,
      "metadata": {},
      "outputs": [
        {
          "data": {
            "text/html": [
              "<div>\n",
              "<style scoped>\n",
              "    .dataframe tbody tr th:only-of-type {\n",
              "        vertical-align: middle;\n",
              "    }\n",
              "\n",
              "    .dataframe tbody tr th {\n",
              "        vertical-align: top;\n",
              "    }\n",
              "\n",
              "    .dataframe thead th {\n",
              "        text-align: right;\n",
              "    }\n",
              "</style>\n",
              "<table border=\"1\" class=\"dataframe\">\n",
              "  <thead>\n",
              "    <tr style=\"text-align: right;\">\n",
              "      <th></th>\n",
              "      <th>Close</th>\n",
              "      <th>log_return</th>\n",
              "      <th>arith_return</th>\n",
              "    </tr>\n",
              "    <tr>\n",
              "      <th>Date</th>\n",
              "      <th></th>\n",
              "      <th></th>\n",
              "      <th></th>\n",
              "    </tr>\n",
              "  </thead>\n",
              "  <tbody>\n",
              "    <tr>\n",
              "      <th>2020-01-02</th>\n",
              "      <td>54.99</td>\n",
              "      <td>NaN</td>\n",
              "      <td>NaN</td>\n",
              "    </tr>\n",
              "    <tr>\n",
              "      <th>2020-01-03</th>\n",
              "      <td>54.69</td>\n",
              "      <td>-0.005470</td>\n",
              "      <td>-0.005456</td>\n",
              "    </tr>\n",
              "    <tr>\n",
              "      <th>2020-01-06</th>\n",
              "      <td>54.67</td>\n",
              "      <td>-0.000366</td>\n",
              "      <td>-0.000366</td>\n",
              "    </tr>\n",
              "    <tr>\n",
              "      <th>2020-01-07</th>\n",
              "      <td>54.25</td>\n",
              "      <td>-0.007712</td>\n",
              "      <td>-0.007682</td>\n",
              "    </tr>\n",
              "    <tr>\n",
              "      <th>2020-01-08</th>\n",
              "      <td>54.35</td>\n",
              "      <td>0.001842</td>\n",
              "      <td>0.001843</td>\n",
              "    </tr>\n",
              "  </tbody>\n",
              "</table>\n",
              "</div>"
            ],
            "text/plain": [
              "            Close  log_return  arith_return\n",
              "Date                                       \n",
              "2020-01-02  54.99         NaN           NaN\n",
              "2020-01-03  54.69   -0.005470     -0.005456\n",
              "2020-01-06  54.67   -0.000366     -0.000366\n",
              "2020-01-07  54.25   -0.007712     -0.007682\n",
              "2020-01-08  54.35    0.001842      0.001843"
            ]
          },
          "execution_count": 4,
          "metadata": {},
          "output_type": "execute_result"
        }
      ],
      "source": [
        "# r(t+1) = ln[P(t+1) / P(t)]\n",
        "OK[\"log_return\"] = np.log(OK[\"Close\"] / OK[\"Close\"].shift(1))\n",
        "\n",
        "# r(t+1) = [P(t+1) - P(t)] / P(t)\n",
        "OK[\"arith_return\"] = OK[\"Close\"].pct_change()\n",
        "\n",
        "OK.head()"
      ]
    },
    {
      "cell_type": "code",
      "execution_count": 5,
      "metadata": {},
      "outputs": [
        {
          "data": {
            "text/html": [
              "<div>\n",
              "<style scoped>\n",
              "    .dataframe tbody tr th:only-of-type {\n",
              "        vertical-align: middle;\n",
              "    }\n",
              "\n",
              "    .dataframe tbody tr th {\n",
              "        vertical-align: top;\n",
              "    }\n",
              "\n",
              "    .dataframe thead th {\n",
              "        text-align: right;\n",
              "    }\n",
              "</style>\n",
              "<table border=\"1\" class=\"dataframe\">\n",
              "  <thead>\n",
              "    <tr style=\"text-align: right;\">\n",
              "      <th></th>\n",
              "      <th>Close</th>\n",
              "      <th>log_return</th>\n",
              "      <th>arith_return</th>\n",
              "    </tr>\n",
              "    <tr>\n",
              "      <th>Date</th>\n",
              "      <th></th>\n",
              "      <th></th>\n",
              "      <th></th>\n",
              "    </tr>\n",
              "  </thead>\n",
              "  <tbody>\n",
              "    <tr>\n",
              "      <th>2020-01-02</th>\n",
              "      <td>3257.85</td>\n",
              "      <td>NaN</td>\n",
              "      <td>NaN</td>\n",
              "    </tr>\n",
              "    <tr>\n",
              "      <th>2020-01-03</th>\n",
              "      <td>3234.85</td>\n",
              "      <td>-0.007085</td>\n",
              "      <td>-0.007060</td>\n",
              "    </tr>\n",
              "    <tr>\n",
              "      <th>2020-01-06</th>\n",
              "      <td>3246.28</td>\n",
              "      <td>0.003527</td>\n",
              "      <td>0.003533</td>\n",
              "    </tr>\n",
              "    <tr>\n",
              "      <th>2020-01-07</th>\n",
              "      <td>3237.18</td>\n",
              "      <td>-0.002807</td>\n",
              "      <td>-0.002803</td>\n",
              "    </tr>\n",
              "    <tr>\n",
              "      <th>2020-01-08</th>\n",
              "      <td>3253.05</td>\n",
              "      <td>0.004890</td>\n",
              "      <td>0.004902</td>\n",
              "    </tr>\n",
              "  </tbody>\n",
              "</table>\n",
              "</div>"
            ],
            "text/plain": [
              "              Close  log_return  arith_return\n",
              "Date                                         \n",
              "2020-01-02  3257.85         NaN           NaN\n",
              "2020-01-03  3234.85   -0.007085     -0.007060\n",
              "2020-01-06  3246.28    0.003527      0.003533\n",
              "2020-01-07  3237.18   -0.002807     -0.002803\n",
              "2020-01-08  3253.05    0.004890      0.004902"
            ]
          },
          "execution_count": 5,
          "metadata": {},
          "output_type": "execute_result"
        }
      ],
      "source": [
        "# r(t+1) = ln[P(t+1) / P(t)]\n",
        "SP500[\"log_return\"] = np.log(SP500[\"Close\"] / SP500[\"Close\"].shift(1))\n",
        "\n",
        "# r(t+1) = [P(t+1) - P(t)] / P(t)\n",
        "SP500[\"arith_return\"] = SP500[\"Close\"].pct_change()\n",
        "\n",
        "SP500.head()"
      ]
    },
    {
      "cell_type": "code",
      "execution_count": 19,
      "metadata": {},
      "outputs": [
        {
          "data": {
            "text/html": [
              "<div>\n",
              "<style scoped>\n",
              "    .dataframe tbody tr th:only-of-type {\n",
              "        vertical-align: middle;\n",
              "    }\n",
              "\n",
              "    .dataframe tbody tr th {\n",
              "        vertical-align: top;\n",
              "    }\n",
              "\n",
              "    .dataframe thead th {\n",
              "        text-align: right;\n",
              "    }\n",
              "</style>\n",
              "<table border=\"1\" class=\"dataframe\">\n",
              "  <thead>\n",
              "    <tr style=\"text-align: right;\">\n",
              "      <th></th>\n",
              "      <th>Close</th>\n",
              "      <th>log_return</th>\n",
              "      <th>arith_return</th>\n",
              "    </tr>\n",
              "    <tr>\n",
              "      <th>Date</th>\n",
              "      <th></th>\n",
              "      <th></th>\n",
              "      <th></th>\n",
              "    </tr>\n",
              "  </thead>\n",
              "  <tbody>\n",
              "    <tr>\n",
              "      <th>2020-01-02</th>\n",
              "      <td>1524.5</td>\n",
              "      <td>NaN</td>\n",
              "      <td>NaN</td>\n",
              "    </tr>\n",
              "    <tr>\n",
              "      <th>2020-01-03</th>\n",
              "      <td>1549.2</td>\n",
              "      <td>0.016072</td>\n",
              "      <td>0.016202</td>\n",
              "    </tr>\n",
              "    <tr>\n",
              "      <th>2020-01-06</th>\n",
              "      <td>1566.2</td>\n",
              "      <td>0.010914</td>\n",
              "      <td>0.010973</td>\n",
              "    </tr>\n",
              "    <tr>\n",
              "      <th>2020-01-07</th>\n",
              "      <td>1571.8</td>\n",
              "      <td>0.003569</td>\n",
              "      <td>0.003576</td>\n",
              "    </tr>\n",
              "    <tr>\n",
              "      <th>2020-01-08</th>\n",
              "      <td>1557.4</td>\n",
              "      <td>-0.009204</td>\n",
              "      <td>-0.009161</td>\n",
              "    </tr>\n",
              "  </tbody>\n",
              "</table>\n",
              "</div>"
            ],
            "text/plain": [
              "             Close  log_return  arith_return\n",
              "Date                                        \n",
              "2020-01-02  1524.5         NaN           NaN\n",
              "2020-01-03  1549.2    0.016072      0.016202\n",
              "2020-01-06  1566.2    0.010914      0.010973\n",
              "2020-01-07  1571.8    0.003569      0.003576\n",
              "2020-01-08  1557.4   -0.009204     -0.009161"
            ]
          },
          "execution_count": 19,
          "metadata": {},
          "output_type": "execute_result"
        }
      ],
      "source": [
        "# r(t+1) = ln[P(t+1) / P(t)]\n",
        "GCF[\"log_return\"] = np.log(GCF[\"Close\"] / GCF[\"Close\"].shift(1))\n",
        "\n",
        "# r(t+1) = [P(t+1) - P(t)] / P(t)\n",
        "GCF[\"arith_return\"] = GCF[\"Close\"].pct_change()\n",
        "\n",
        "GCF.head()"
      ]
    },
    {
      "cell_type": "markdown",
      "metadata": {},
      "source": [
        "## Stock data"
      ]
    },
    {
      "cell_type": "code",
      "execution_count": 6,
      "metadata": {},
      "outputs": [
        {
          "name": "stdout",
          "output_type": "stream",
          "text": [
            "                 Value\n",
            "Name         Coca-Cola\n",
            "Ticker              KO\n",
            "Mean          0.000193\n",
            "Median        0.000958\n",
            "Std Dev       0.015624\n",
            "Min          -0.101728\n",
            "Max           0.062783\n",
            "Skewness     -0.841427\n",
            "Kurtosis      6.966093\n",
            "Start Date  2020-01-03\n",
            "End Date    2022-12-30\n"
          ]
        }
      ],
      "source": [
        "# 选用对数收益率列并去掉 NaN\n",
        "KO_ret = OK[\"log_return\"].dropna()\n",
        "\n",
        "# 计算统计量\n",
        "stats = {\n",
        "    \"Name\"       : \"Coca-Cola\",\n",
        "    \"Ticker\"     : \"KO\",\n",
        "    \"Mean\"       : KO_ret.mean(),\n",
        "    \"Median\"     : KO_ret.median(),\n",
        "    \"Std Dev\"    : KO_ret.std(ddof=1),   # 样本标准差\n",
        "    \"Min\"        : KO_ret.min(),\n",
        "    \"Max\"        : KO_ret.max(),\n",
        "    \"Skewness\"   : KO_ret.skew(),\n",
        "    \"Kurtosis\"   : KO_ret.kurt(),\n",
        "    \"Start Date\" : KO_ret.index.min().date(),\n",
        "    \"End Date\"   : KO_ret.index.max().date()\n",
        "}\n",
        "\n",
        "\n",
        "summary = pd.DataFrame(stats, index=[\"Value\"]).T\n",
        "print(summary.to_string())"
      ]
    },
    {
      "cell_type": "code",
      "execution_count": 7,
      "metadata": {},
      "outputs": [
        {
          "name": "stdout",
          "output_type": "stream",
          "text": [
            "                 Value\n",
            "Name           S&P 500\n",
            "Ticker           ^GSPC\n",
            "Mean          0.000218\n",
            "Median        0.000881\n",
            "Std Dev       0.016118\n",
            "Min          -0.127652\n",
            "Max           0.089683\n",
            "Skewness     -0.745384\n",
            "Kurtosis     10.943675\n",
            "Start Date  2020-01-03\n",
            "End Date    2022-12-30\n"
          ]
        }
      ],
      "source": [
        "# 选用对数收益率列并去掉 NaN\n",
        "SP500_ret = SP500[\"log_return\"].dropna()\n",
        "\n",
        "# 计算统计量\n",
        "stats = {\n",
        "    \"Name\"       : \"S&P 500\",\n",
        "    \"Ticker\"     : \"^GSPC\",\n",
        "    \"Mean\"       : SP500_ret.mean(),\n",
        "    \"Median\"     : SP500_ret.median(),\n",
        "    \"Std Dev\"    : SP500_ret.std(ddof=1),   # 样本标准差\n",
        "    \"Min\"        : SP500_ret.min(),\n",
        "    \"Max\"        : SP500_ret.max(),\n",
        "    \"Skewness\"   : SP500_ret.skew(),\n",
        "    \"Kurtosis\"   : SP500_ret.kurt(),\n",
        "    \"Start Date\" : SP500_ret.index.min().date(),\n",
        "    \"End Date\"   : SP500_ret.index.max().date()\n",
        "}\n",
        "\n",
        "summary = pd.DataFrame(stats, index=[\"Value\"]).T\n",
        "print(summary.to_string())"
      ]
    },
    {
      "cell_type": "markdown",
      "metadata": {},
      "source": [
        "## Separate the data"
      ]
    },
    {
      "cell_type": "code",
      "execution_count": 8,
      "metadata": {},
      "outputs": [
        {
          "name": "stdout",
          "output_type": "stream",
          "text": [
            "\n",
            "===== KO-train (2020-2021) =====\n",
            "          2020-2021\n",
            "Mean       0.000147\n",
            "Median     0.000751\n",
            "Std Dev    0.016984\n",
            "Min       -0.101728\n",
            "Max        0.062783\n",
            "Skewness  -0.815080\n",
            "Kurtosis   6.624366\n",
            "\n",
            "===== KO-test (2022) =====\n",
            "              2022\n",
            "Mean      0.000286\n",
            "Median    0.001399\n",
            "Std Dev   0.012482\n",
            "Min      -0.072169\n",
            "Max       0.037942\n",
            "Skewness -0.835994\n",
            "Kurtosis  4.678076\n"
          ]
        }
      ],
      "source": [
        "# --- 函数：计算描述性统计 -------------------------------------------------\n",
        "def get_stats(series):\n",
        "    return {\n",
        "        \"Mean\"     : series.mean(),\n",
        "        \"Median\"   : series.median(),\n",
        "        \"Std Dev\"  : series.std(ddof=1),\n",
        "        \"Min\"      : series.min(),\n",
        "        \"Max\"      : series.max(),\n",
        "        \"Skewness\" : series.skew(),\n",
        "        \"Kurtosis\" : series.kurt()\n",
        "    }\n",
        "\n",
        "# --- 1. 按时间切片 --------------------------------------------------------\n",
        "train_OK = OK.loc[\"2020\":\"2021\", \"log_return\"].dropna()   # 前两年\n",
        "test_OK  = OK.loc[\"2022\", \"log_return\"].dropna() # 最后一年\n",
        "\n",
        "# --- 2. 生成统计表 ---------------------------------------------------------\n",
        "stats_train_OK = pd.DataFrame(get_stats(train_OK), index=[\"2020-2021\"]).T\n",
        "stats_test_OK  = pd.DataFrame(get_stats(test_OK),  index=[\"2022\"]).T\n",
        "\n",
        "print(\"\\n===== KO-train (2020-2021) =====\")\n",
        "print(stats_train_OK.to_string())\n",
        "\n",
        "print(\"\\n===== KO-test (2022) =====\")\n",
        "print(stats_test_OK.to_string())"
      ]
    },
    {
      "cell_type": "code",
      "execution_count": 9,
      "metadata": {},
      "outputs": [
        {
          "name": "stdout",
          "output_type": "stream",
          "text": [
            "\n",
            "===== SP500-train (2020-2021) =====\n",
            "          2020-2021\n",
            "Mean       0.000755\n",
            "Median     0.001658\n",
            "Std Dev    0.016527\n",
            "Min       -0.127652\n",
            "Max        0.089683\n",
            "Skewness  -1.049193\n",
            "Kurtosis  14.893687\n",
            "\n",
            "===== SP500-test (2022) =====\n",
            "              2022\n",
            "Mean     -0.000861\n",
            "Median   -0.001593\n",
            "Std Dev   0.015239\n",
            "Min      -0.044199\n",
            "Max       0.053953\n",
            "Skewness -0.008660\n",
            "Kurtosis  0.367144\n"
          ]
        }
      ],
      "source": [
        "# --- 1. 按时间切片 --------------------------------------------------------\n",
        "train_SP500 = SP500.loc[\"2020\":\"2021\", \"log_return\"].dropna()   # 前两年\n",
        "test_SP500  = SP500.loc[\"2022\", \"log_return\"].dropna() # 最后一年\n",
        "\n",
        "# --- 2. 生成统计表 ---------------------------------------------------------\n",
        "stats_train_SP500 = pd.DataFrame(get_stats(train_SP500), index=[\"2020-2021\"]).T\n",
        "stats_test_SP500  = pd.DataFrame(get_stats(test_SP500),  index=[\"2022\"]).T\n",
        "\n",
        "print(\"\\n===== SP500-train (2020-2021) =====\")\n",
        "print(stats_train_SP500.to_string())\n",
        "\n",
        "print(\"\\n===== SP500-test (2022) =====\")\n",
        "print(stats_test_SP500.to_string())"
      ]
    },
    {
      "cell_type": "markdown",
      "metadata": {},
      "source": [
        "## OLS"
      ]
    },
    {
      "cell_type": "code",
      "execution_count": 15,
      "metadata": {},
      "outputs": [
        {
          "name": "stdout",
          "output_type": "stream",
          "text": [
            "                            OLS Regression Results                            \n",
            "==============================================================================\n",
            "Dep. Variable:                  Close   R-squared:                       0.617\n",
            "Model:                            OLS   Adj. R-squared:                  0.617\n",
            "Method:                 Least Squares   F-statistic:                     1217.\n",
            "Date:                Mon, 16 Jun 2025   Prob (F-statistic):          1.83e-159\n",
            "Time:                        23:21:24   Log-Likelihood:                -2053.0\n",
            "No. Observations:                 756   AIC:                             4110.\n",
            "Df Residuals:                     754   BIC:                             4119.\n",
            "Df Model:                           1                                         \n",
            "Covariance Type:            nonrobust                                         \n",
            "==============================================================================\n",
            "                 coef    std err          t      P>|t|      [0.025      0.975]\n",
            "------------------------------------------------------------------------------\n",
            "const      -1.079e+04    311.054    -34.704      0.000   -1.14e+04   -1.02e+04\n",
            "x1             0.0147      0.000     34.882      0.000       0.014       0.016\n",
            "==============================================================================\n",
            "Omnibus:                      111.004   Durbin-Watson:                   0.049\n",
            "Prob(Omnibus):                  0.000   Jarque-Bera (JB):              187.571\n",
            "Skew:                           0.924   Prob(JB):                     1.86e-41\n",
            "Kurtosis:                       4.592   Cond. No.                     1.72e+09\n",
            "==============================================================================\n",
            "\n",
            "Notes:\n",
            "[1] Standard Errors assume that the covariance matrix of the errors is correctly specified.\n",
            "[2] The condition number is large, 1.72e+09. This might indicate that there are\n",
            "strong multicollinearity or other numerical problems.\n"
          ]
        }
      ],
      "source": [
        "# X: intercept + time trend based on the DatetimeIndex\n",
        "t = OK.index.map(pd.Timestamp.toordinal).to_numpy()   # convert dates → integers\n",
        "X = sm.add_constant(t)                                # add intercept\n",
        "\n",
        "# OLS\n",
        "model = sm.OLS(OK['Close'], X).fit()\n",
        "print(model.summary())\n"
      ]
    },
    {
      "cell_type": "code",
      "execution_count": 16,
      "metadata": {
        "trusted": true
      },
      "outputs": [],
      "source": [
        "hac_cov = sw.cov_hac(model, 1)"
      ]
    },
    {
      "cell_type": "code",
      "execution_count": 17,
      "metadata": {
        "trusted": true
      },
      "outputs": [
        {
          "name": "stdout",
          "output_type": "stream",
          "text": [
            "                            OLS Regression Results                            \n",
            "==============================================================================\n",
            "Dep. Variable:                  Close   R-squared:                       0.617\n",
            "Model:                            OLS   Adj. R-squared:                  0.617\n",
            "Method:                 Least Squares   F-statistic:                     333.7\n",
            "Date:                Mon, 16 Jun 2025   Prob (F-statistic):           5.26e-62\n",
            "Time:                        23:21:52   Log-Likelihood:                -2053.0\n",
            "No. Observations:                 756   AIC:                             4110.\n",
            "Df Residuals:                     754   BIC:                             4119.\n",
            "Df Model:                           1                                         \n",
            "Covariance Type:                  HAC                                         \n",
            "==============================================================================\n",
            "                 coef    std err          t      P>|t|      [0.025      0.975]\n",
            "------------------------------------------------------------------------------\n",
            "const      -1.079e+04    594.031    -18.172      0.000    -1.2e+04   -9628.666\n",
            "x1             0.0147      0.001     18.268      0.000       0.013       0.016\n",
            "==============================================================================\n",
            "Omnibus:                      111.004   Durbin-Watson:                   0.049\n",
            "Prob(Omnibus):                  0.000   Jarque-Bera (JB):              187.571\n",
            "Skew:                           0.924   Prob(JB):                     1.86e-41\n",
            "Kurtosis:                       4.592   Cond. No.                     1.72e+09\n",
            "==============================================================================\n",
            "\n",
            "Notes:\n",
            "[1] Standard Errors are heteroscedasticity and autocorrelation robust (HAC) using 1 lags and without small sample correction\n",
            "[2] The condition number is large, 1.72e+09. This might indicate that there are\n",
            "strong multicollinearity or other numerical problems.\n"
          ]
        }
      ],
      "source": [
        "s = model.get_robustcov_results(cov_type='HAC', maxlags=1)\n",
        "print(s.summary())"
      ]
    },
    {
      "cell_type": "raw",
      "metadata": {},
      "source": []
    }
  ],
  "metadata": {
    "kernelspec": {
      "display_name": ".venv",
      "language": "python",
      "name": "python3"
    },
    "language_info": {
      "codemirror_mode": {
        "name": "ipython",
        "version": 3
      },
      "file_extension": ".py",
      "mimetype": "text/x-python",
      "name": "python",
      "nbconvert_exporter": "python",
      "pygments_lexer": "ipython3",
      "version": "3.12.3"
    }
  },
  "nbformat": 4,
  "nbformat_minor": 4
}
