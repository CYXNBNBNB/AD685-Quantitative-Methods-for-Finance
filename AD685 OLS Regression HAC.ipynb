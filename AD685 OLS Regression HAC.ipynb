{
  "cells": [
    {
      "cell_type": "code",
      "execution_count": 1,
      "metadata": {
        "trusted": true
      },
      "outputs": [],
      "source": [
        "import statsmodels.api as sm\n",
        "import statsmodels.stats.sandwich_covariance as sw\n",
        "import numpy as np\n",
        "import pandas as pd"
      ]
    },
    {
      "cell_type": "code",
      "execution_count": 10,
      "metadata": {
        "trusted": true
      },
      "outputs": [
        {
          "data": {
            "text/html": [
              "<div>\n",
              "<style scoped>\n",
              "    .dataframe tbody tr th:only-of-type {\n",
              "        vertical-align: middle;\n",
              "    }\n",
              "\n",
              "    .dataframe tbody tr th {\n",
              "        vertical-align: top;\n",
              "    }\n",
              "\n",
              "    .dataframe thead th {\n",
              "        text-align: right;\n",
              "    }\n",
              "</style>\n",
              "<table border=\"1\" class=\"dataframe\">\n",
              "  <thead>\n",
              "    <tr style=\"text-align: right;\">\n",
              "      <th></th>\n",
              "      <th>Date</th>\n",
              "      <th>Close</th>\n",
              "    </tr>\n",
              "  </thead>\n",
              "  <tbody>\n",
              "    <tr>\n",
              "      <th>0</th>\n",
              "      <td>2022-12-30</td>\n",
              "      <td>63.61</td>\n",
              "    </tr>\n",
              "    <tr>\n",
              "      <th>1</th>\n",
              "      <td>2022-12-29</td>\n",
              "      <td>63.95</td>\n",
              "    </tr>\n",
              "    <tr>\n",
              "      <th>2</th>\n",
              "      <td>2022-12-28</td>\n",
              "      <td>63.57</td>\n",
              "    </tr>\n",
              "    <tr>\n",
              "      <th>3</th>\n",
              "      <td>2022-12-27</td>\n",
              "      <td>64.21</td>\n",
              "    </tr>\n",
              "    <tr>\n",
              "      <th>4</th>\n",
              "      <td>2022-12-23</td>\n",
              "      <td>63.82</td>\n",
              "    </tr>\n",
              "  </tbody>\n",
              "</table>\n",
              "</div>"
            ],
            "text/plain": [
              "        Date  Close\n",
              "0 2022-12-30  63.61\n",
              "1 2022-12-29  63.95\n",
              "2 2022-12-28  63.57\n",
              "3 2022-12-27  64.21\n",
              "4 2022-12-23  63.82"
            ]
          },
          "execution_count": 10,
          "metadata": {},
          "output_type": "execute_result"
        }
      ],
      "source": [
        "OK = pd.read_excel(\n",
        "    \"data/OK.xlsx\",\n",
        "    sheet_name=0,\n",
        "    engine=\"openpyxl\"\n",
        ")\n",
        "\n",
        "OK.head()"
      ]
    },
    {
      "cell_type": "code",
      "execution_count": 11,
      "metadata": {
        "trusted": true
      },
      "outputs": [
        {
          "data": {
            "text/plain": [
              "0     2022-12-30\n",
              "1     2022-12-29\n",
              "2     2022-12-28\n",
              "3     2022-12-27\n",
              "4     2022-12-23\n",
              "         ...    \n",
              "751   2020-01-08\n",
              "752   2020-01-07\n",
              "753   2020-01-06\n",
              "754   2020-01-03\n",
              "755   2020-01-02\n",
              "Name: Date, Length: 756, dtype: datetime64[ns]"
            ]
          },
          "execution_count": 11,
          "metadata": {},
          "output_type": "execute_result"
        }
      ],
      "source": [
        "OK['Date']"
      ]
    },
    {
      "cell_type": "code",
      "execution_count": 12,
      "metadata": {
        "trusted": true
      },
      "outputs": [
        {
          "data": {
            "text/plain": [
              "0      63.61\n",
              "1      63.95\n",
              "2      63.57\n",
              "3      64.21\n",
              "4      63.82\n",
              "       ...  \n",
              "751    54.35\n",
              "752    54.25\n",
              "753    54.67\n",
              "754    54.69\n",
              "755    54.99\n",
              "Name: Close, Length: 756, dtype: float64"
            ]
          },
          "execution_count": 12,
          "metadata": {},
          "output_type": "execute_result"
        }
      ],
      "source": [
        "OK['Close']"
      ]
    },
    {
      "cell_type": "code",
      "execution_count": 13,
      "metadata": {
        "trusted": true
      },
      "outputs": [],
      "source": [
        "#--y = np.asarray(OK['Close']).astype(float)\n",
        "X = pd.to_datetime(OK['Date']).apply(lambda x: x.toordinal()) \n",
        "X = np.asarray(sm.add_constant(X))"
      ]
    },
    {
      "cell_type": "code",
      "execution_count": 14,
      "metadata": {
        "trusted": true
      },
      "outputs": [],
      "source": [
        "model = sm.OLS(OK['Close'], X).fit()"
      ]
    },
    {
      "cell_type": "code",
      "execution_count": 15,
      "metadata": {
        "trusted": true
      },
      "outputs": [
        {
          "name": "stdout",
          "output_type": "stream",
          "text": [
            "                            OLS Regression Results                            \n",
            "==============================================================================\n",
            "Dep. Variable:                  Close   R-squared:                       0.617\n",
            "Model:                            OLS   Adj. R-squared:                  0.617\n",
            "Method:                 Least Squares   F-statistic:                     1217.\n",
            "Date:                Mon, 16 Jun 2025   Prob (F-statistic):          1.83e-159\n",
            "Time:                        22:13:31   Log-Likelihood:                -2053.0\n",
            "No. Observations:                 756   AIC:                             4110.\n",
            "Df Residuals:                     754   BIC:                             4119.\n",
            "Df Model:                           1                                         \n",
            "Covariance Type:            nonrobust                                         \n",
            "==============================================================================\n",
            "                 coef    std err          t      P>|t|      [0.025      0.975]\n",
            "------------------------------------------------------------------------------\n",
            "const      -1.079e+04    311.054    -34.704      0.000   -1.14e+04   -1.02e+04\n",
            "x1             0.0147      0.000     34.882      0.000       0.014       0.016\n",
            "==============================================================================\n",
            "Omnibus:                      111.004   Durbin-Watson:                   0.049\n",
            "Prob(Omnibus):                  0.000   Jarque-Bera (JB):              187.571\n",
            "Skew:                           0.924   Prob(JB):                     1.86e-41\n",
            "Kurtosis:                       4.592   Cond. No.                     1.72e+09\n",
            "==============================================================================\n",
            "\n",
            "Notes:\n",
            "[1] Standard Errors assume that the covariance matrix of the errors is correctly specified.\n",
            "[2] The condition number is large, 1.72e+09. This might indicate that there are\n",
            "strong multicollinearity or other numerical problems.\n"
          ]
        }
      ],
      "source": [
        "print(model.summary())"
      ]
    },
    {
      "cell_type": "code",
      "execution_count": 16,
      "metadata": {
        "trusted": true
      },
      "outputs": [],
      "source": [
        "hac_cov = sw.cov_hac(model, 1)"
      ]
    },
    {
      "cell_type": "code",
      "execution_count": 17,
      "metadata": {
        "trusted": true
      },
      "outputs": [
        {
          "name": "stdout",
          "output_type": "stream",
          "text": [
            "                            OLS Regression Results                            \n",
            "==============================================================================\n",
            "Dep. Variable:                  Close   R-squared:                       0.617\n",
            "Model:                            OLS   Adj. R-squared:                  0.617\n",
            "Method:                 Least Squares   F-statistic:                     333.7\n",
            "Date:                Mon, 16 Jun 2025   Prob (F-statistic):           5.26e-62\n",
            "Time:                        22:13:42   Log-Likelihood:                -2053.0\n",
            "No. Observations:                 756   AIC:                             4110.\n",
            "Df Residuals:                     754   BIC:                             4119.\n",
            "Df Model:                           1                                         \n",
            "Covariance Type:                  HAC                                         \n",
            "==============================================================================\n",
            "                 coef    std err          t      P>|t|      [0.025      0.975]\n",
            "------------------------------------------------------------------------------\n",
            "const      -1.079e+04    594.031    -18.172      0.000    -1.2e+04   -9628.666\n",
            "x1             0.0147      0.001     18.268      0.000       0.013       0.016\n",
            "==============================================================================\n",
            "Omnibus:                      111.004   Durbin-Watson:                   0.049\n",
            "Prob(Omnibus):                  0.000   Jarque-Bera (JB):              187.571\n",
            "Skew:                           0.924   Prob(JB):                     1.86e-41\n",
            "Kurtosis:                       4.592   Cond. No.                     1.72e+09\n",
            "==============================================================================\n",
            "\n",
            "Notes:\n",
            "[1] Standard Errors are heteroscedasticity and autocorrelation robust (HAC) using 1 lags and without small sample correction\n",
            "[2] The condition number is large, 1.72e+09. This might indicate that there are\n",
            "strong multicollinearity or other numerical problems.\n"
          ]
        }
      ],
      "source": [
        "s = model.get_robustcov_results(cov_type='HAC', maxlags=1)\n",
        "print(s.summary())"
      ]
    },
    {
      "cell_type": "raw",
      "metadata": {},
      "source": []
    }
  ],
  "metadata": {
    "kernelspec": {
      "display_name": ".venv",
      "language": "python",
      "name": "python3"
    },
    "language_info": {
      "codemirror_mode": {
        "name": "ipython",
        "version": 3
      },
      "file_extension": ".py",
      "mimetype": "text/x-python",
      "name": "python",
      "nbconvert_exporter": "python",
      "pygments_lexer": "ipython3",
      "version": "3.12.3"
    }
  },
  "nbformat": 4,
  "nbformat_minor": 4
}
