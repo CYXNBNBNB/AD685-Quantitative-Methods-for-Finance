{
  "cells": [
    {
      "cell_type": "code",
      "execution_count": 20,
      "metadata": {
        "trusted": true
      },
      "outputs": [],
      "source": [
        "import statsmodels.api as sm\n",
        "import statsmodels.stats.sandwich_covariance as sw\n",
        "import numpy as np\n",
        "import pandas as pd"
      ]
    },
    {
      "cell_type": "markdown",
      "metadata": {},
      "source": [
        "## Import data"
      ]
    },
    {
      "cell_type": "code",
      "execution_count": null,
      "metadata": {
        "trusted": true
      },
      "outputs": [
        {
          "data": {
            "text/html": [
              "<div>\n",
              "<style scoped>\n",
              "    .dataframe tbody tr th:only-of-type {\n",
              "        vertical-align: middle;\n",
              "    }\n",
              "\n",
              "    .dataframe tbody tr th {\n",
              "        vertical-align: top;\n",
              "    }\n",
              "\n",
              "    .dataframe thead th {\n",
              "        text-align: right;\n",
              "    }\n",
              "</style>\n",
              "<table border=\"1\" class=\"dataframe\">\n",
              "  <thead>\n",
              "    <tr style=\"text-align: right;\">\n",
              "      <th></th>\n",
              "      <th>Close</th>\n",
              "    </tr>\n",
              "    <tr>\n",
              "      <th>Date</th>\n",
              "      <th></th>\n",
              "    </tr>\n",
              "  </thead>\n",
              "  <tbody>\n",
              "    <tr>\n",
              "      <th>2020-01-02</th>\n",
              "      <td>54.99</td>\n",
              "    </tr>\n",
              "    <tr>\n",
              "      <th>2020-01-03</th>\n",
              "      <td>54.69</td>\n",
              "    </tr>\n",
              "    <tr>\n",
              "      <th>2020-01-06</th>\n",
              "      <td>54.67</td>\n",
              "    </tr>\n",
              "    <tr>\n",
              "      <th>2020-01-07</th>\n",
              "      <td>54.25</td>\n",
              "    </tr>\n",
              "    <tr>\n",
              "      <th>2020-01-08</th>\n",
              "      <td>54.35</td>\n",
              "    </tr>\n",
              "  </tbody>\n",
              "</table>\n",
              "</div>"
            ],
            "text/plain": [
              "            Close\n",
              "Date             \n",
              "2020-01-02  54.99\n",
              "2020-01-03  54.69\n",
              "2020-01-06  54.67\n",
              "2020-01-07  54.25\n",
              "2020-01-08  54.35"
            ]
          },
          "execution_count": 40,
          "metadata": {},
          "output_type": "execute_result"
        }
      ],
      "source": [
        "OK = pd.read_excel(\n",
        "    \"data/OK.xlsx\",\n",
        "    sheet_name=0,\n",
        "    engine=\"openpyxl\"\n",
        ")\n",
        "\n",
        "OK[\"Date\"] = pd.to_datetime(OK[\"Date\"])\n",
        "OK = OK.set_index(\"Date\").sort_index()\n",
        "\n",
        "OK.head()"
      ]
    },
    {
      "cell_type": "code",
      "execution_count": 43,
      "metadata": {},
      "outputs": [
        {
          "data": {
            "text/html": [
              "<div>\n",
              "<style scoped>\n",
              "    .dataframe tbody tr th:only-of-type {\n",
              "        vertical-align: middle;\n",
              "    }\n",
              "\n",
              "    .dataframe tbody tr th {\n",
              "        vertical-align: top;\n",
              "    }\n",
              "\n",
              "    .dataframe thead th {\n",
              "        text-align: right;\n",
              "    }\n",
              "</style>\n",
              "<table border=\"1\" class=\"dataframe\">\n",
              "  <thead>\n",
              "    <tr style=\"text-align: right;\">\n",
              "      <th></th>\n",
              "      <th>Close</th>\n",
              "    </tr>\n",
              "    <tr>\n",
              "      <th>Date</th>\n",
              "      <th></th>\n",
              "    </tr>\n",
              "  </thead>\n",
              "  <tbody>\n",
              "    <tr>\n",
              "      <th>2020-01-02</th>\n",
              "      <td>3257.85</td>\n",
              "    </tr>\n",
              "    <tr>\n",
              "      <th>2020-01-03</th>\n",
              "      <td>3234.85</td>\n",
              "    </tr>\n",
              "    <tr>\n",
              "      <th>2020-01-06</th>\n",
              "      <td>3246.28</td>\n",
              "    </tr>\n",
              "    <tr>\n",
              "      <th>2020-01-07</th>\n",
              "      <td>3237.18</td>\n",
              "    </tr>\n",
              "    <tr>\n",
              "      <th>2020-01-08</th>\n",
              "      <td>3253.05</td>\n",
              "    </tr>\n",
              "  </tbody>\n",
              "</table>\n",
              "</div>"
            ],
            "text/plain": [
              "              Close\n",
              "Date               \n",
              "2020-01-02  3257.85\n",
              "2020-01-03  3234.85\n",
              "2020-01-06  3246.28\n",
              "2020-01-07  3237.18\n",
              "2020-01-08  3253.05"
            ]
          },
          "execution_count": 43,
          "metadata": {},
          "output_type": "execute_result"
        }
      ],
      "source": [
        "SP500 = pd.read_excel(\n",
        "    \"data/SP500.xlsx\",\n",
        "    sheet_name=0,\n",
        "    engine=\"openpyxl\"\n",
        ")\n",
        "\n",
        "SP500[\"Date\"] = pd.to_datetime(SP500[\"Date\"])\n",
        "SP500 = SP500.set_index(\"Date\").sort_index()\n",
        "\n",
        "SP500.head()"
      ]
    },
    {
      "cell_type": "markdown",
      "metadata": {},
      "source": [
        "## Calculate daily rate of return"
      ]
    },
    {
      "cell_type": "code",
      "execution_count": 44,
      "metadata": {},
      "outputs": [
        {
          "data": {
            "text/html": [
              "<div>\n",
              "<style scoped>\n",
              "    .dataframe tbody tr th:only-of-type {\n",
              "        vertical-align: middle;\n",
              "    }\n",
              "\n",
              "    .dataframe tbody tr th {\n",
              "        vertical-align: top;\n",
              "    }\n",
              "\n",
              "    .dataframe thead th {\n",
              "        text-align: right;\n",
              "    }\n",
              "</style>\n",
              "<table border=\"1\" class=\"dataframe\">\n",
              "  <thead>\n",
              "    <tr style=\"text-align: right;\">\n",
              "      <th></th>\n",
              "      <th>Close</th>\n",
              "      <th>log_return</th>\n",
              "      <th>arith_return</th>\n",
              "    </tr>\n",
              "    <tr>\n",
              "      <th>Date</th>\n",
              "      <th></th>\n",
              "      <th></th>\n",
              "      <th></th>\n",
              "    </tr>\n",
              "  </thead>\n",
              "  <tbody>\n",
              "    <tr>\n",
              "      <th>2020-01-02</th>\n",
              "      <td>54.99</td>\n",
              "      <td>NaN</td>\n",
              "      <td>NaN</td>\n",
              "    </tr>\n",
              "    <tr>\n",
              "      <th>2020-01-03</th>\n",
              "      <td>54.69</td>\n",
              "      <td>-0.005470</td>\n",
              "      <td>-0.005456</td>\n",
              "    </tr>\n",
              "    <tr>\n",
              "      <th>2020-01-06</th>\n",
              "      <td>54.67</td>\n",
              "      <td>-0.000366</td>\n",
              "      <td>-0.000366</td>\n",
              "    </tr>\n",
              "    <tr>\n",
              "      <th>2020-01-07</th>\n",
              "      <td>54.25</td>\n",
              "      <td>-0.007712</td>\n",
              "      <td>-0.007682</td>\n",
              "    </tr>\n",
              "    <tr>\n",
              "      <th>2020-01-08</th>\n",
              "      <td>54.35</td>\n",
              "      <td>0.001842</td>\n",
              "      <td>0.001843</td>\n",
              "    </tr>\n",
              "  </tbody>\n",
              "</table>\n",
              "</div>"
            ],
            "text/plain": [
              "            Close  log_return  arith_return\n",
              "Date                                       \n",
              "2020-01-02  54.99         NaN           NaN\n",
              "2020-01-03  54.69   -0.005470     -0.005456\n",
              "2020-01-06  54.67   -0.000366     -0.000366\n",
              "2020-01-07  54.25   -0.007712     -0.007682\n",
              "2020-01-08  54.35    0.001842      0.001843"
            ]
          },
          "execution_count": 44,
          "metadata": {},
          "output_type": "execute_result"
        }
      ],
      "source": [
        "# r(t+1) = ln[P(t+1) / P(t)]\n",
        "OK[\"log_return\"] = np.log(OK[\"Close\"] / OK[\"Close\"].shift(1))\n",
        "\n",
        "# r(t+1) = [P(t+1) - P(t)] / P(t)\n",
        "OK[\"arith_return\"] = OK[\"Close\"].pct_change()\n",
        "\n",
        "OK.head()"
      ]
    },
    {
      "cell_type": "code",
      "execution_count": 45,
      "metadata": {},
      "outputs": [
        {
          "data": {
            "text/html": [
              "<div>\n",
              "<style scoped>\n",
              "    .dataframe tbody tr th:only-of-type {\n",
              "        vertical-align: middle;\n",
              "    }\n",
              "\n",
              "    .dataframe tbody tr th {\n",
              "        vertical-align: top;\n",
              "    }\n",
              "\n",
              "    .dataframe thead th {\n",
              "        text-align: right;\n",
              "    }\n",
              "</style>\n",
              "<table border=\"1\" class=\"dataframe\">\n",
              "  <thead>\n",
              "    <tr style=\"text-align: right;\">\n",
              "      <th></th>\n",
              "      <th>Close</th>\n",
              "      <th>log_return</th>\n",
              "      <th>arith_return</th>\n",
              "    </tr>\n",
              "    <tr>\n",
              "      <th>Date</th>\n",
              "      <th></th>\n",
              "      <th></th>\n",
              "      <th></th>\n",
              "    </tr>\n",
              "  </thead>\n",
              "  <tbody>\n",
              "    <tr>\n",
              "      <th>2020-01-02</th>\n",
              "      <td>3257.85</td>\n",
              "      <td>NaN</td>\n",
              "      <td>NaN</td>\n",
              "    </tr>\n",
              "    <tr>\n",
              "      <th>2020-01-03</th>\n",
              "      <td>3234.85</td>\n",
              "      <td>-0.007085</td>\n",
              "      <td>-0.007060</td>\n",
              "    </tr>\n",
              "    <tr>\n",
              "      <th>2020-01-06</th>\n",
              "      <td>3246.28</td>\n",
              "      <td>0.003527</td>\n",
              "      <td>0.003533</td>\n",
              "    </tr>\n",
              "    <tr>\n",
              "      <th>2020-01-07</th>\n",
              "      <td>3237.18</td>\n",
              "      <td>-0.002807</td>\n",
              "      <td>-0.002803</td>\n",
              "    </tr>\n",
              "    <tr>\n",
              "      <th>2020-01-08</th>\n",
              "      <td>3253.05</td>\n",
              "      <td>0.004890</td>\n",
              "      <td>0.004902</td>\n",
              "    </tr>\n",
              "  </tbody>\n",
              "</table>\n",
              "</div>"
            ],
            "text/plain": [
              "              Close  log_return  arith_return\n",
              "Date                                         \n",
              "2020-01-02  3257.85         NaN           NaN\n",
              "2020-01-03  3234.85   -0.007085     -0.007060\n",
              "2020-01-06  3246.28    0.003527      0.003533\n",
              "2020-01-07  3237.18   -0.002807     -0.002803\n",
              "2020-01-08  3253.05    0.004890      0.004902"
            ]
          },
          "execution_count": 45,
          "metadata": {},
          "output_type": "execute_result"
        }
      ],
      "source": [
        "# r(t+1) = ln[P(t+1) / P(t)]\n",
        "SP500[\"log_return\"] = np.log(SP500[\"Close\"] / SP500[\"Close\"].shift(1))\n",
        "\n",
        "# r(t+1) = [P(t+1) - P(t)] / P(t)\n",
        "SP500[\"arith_return\"] = SP500[\"Close\"].pct_change()\n",
        "\n",
        "SP500.head()"
      ]
    },
    {
      "cell_type": "markdown",
      "metadata": {},
      "source": [
        "## Stock data"
      ]
    },
    {
      "cell_type": "code",
      "execution_count": null,
      "metadata": {},
      "outputs": [
        {
          "name": "stdout",
          "output_type": "stream",
          "text": [
            "                 Value\n",
            "Name         Coca-Cola\n",
            "Ticker              KO\n",
            "Mean          0.000193\n",
            "Median        0.000958\n",
            "Std Dev       0.015624\n",
            "Min          -0.101728\n",
            "Max           0.062783\n",
            "Skewness     -0.841427\n",
            "Kurtosis      6.966093\n",
            "Start Date  2020-01-03\n",
            "End Date    2022-12-30\n"
          ]
        }
      ],
      "source": [
        "# 选用对数收益率列并去掉 NaN\n",
        "KO_ret = OK[\"log_return\"].dropna()\n",
        "\n",
        "# 计算统计量\n",
        "stats = {\n",
        "    \"Name\"       : \"Coca-Cola\",\n",
        "    \"Ticker\"     : \"KO\",\n",
        "    \"Mean\"       : KO_ret.mean(),\n",
        "    \"Median\"     : KO_ret.median(),\n",
        "    \"Std Dev\"    : KO_ret.std(ddof=1),   # 样本标准差\n",
        "    \"Min\"        : KO_ret.min(),\n",
        "    \"Max\"        : KO_ret.max(),\n",
        "    \"Skewness\"   : KO_ret.skew(),\n",
        "    \"Kurtosis\"   : KO_ret.kurt(),\n",
        "    \"Start Date\" : KO_ret.index.min().date(),\n",
        "    \"End Date\"   : KO_ret.index.max().date()\n",
        "}\n",
        "\n",
        "\n",
        "summary = pd.DataFrame(stats, index=[\"Value\"]).T\n",
        "print(summary.to_string())"
      ]
    },
    {
      "cell_type": "code",
      "execution_count": null,
      "metadata": {},
      "outputs": [
        {
          "name": "stdout",
          "output_type": "stream",
          "text": [
            "                 Value\n",
            "Name           S&P 500\n",
            "Ticker           ^GSPC\n",
            "Mean          0.000218\n",
            "Median        0.000881\n",
            "Std Dev       0.016118\n",
            "Min          -0.127652\n",
            "Max           0.089683\n",
            "Skewness     -0.745384\n",
            "Kurtosis     10.943675\n",
            "Start Date  2020-01-03\n",
            "End Date    2022-12-30\n"
          ]
        }
      ],
      "source": [
        "# 选用对数收益率列并去掉 NaN\n",
        "SP500_ret = SP500[\"log_return\"].dropna()\n",
        "\n",
        "# 计算统计量\n",
        "stats = {\n",
        "    \"Name\"       : \"S&P 500\",\n",
        "    \"Ticker\"     : \"^GSPC\",\n",
        "    \"Mean\"       : SP500_ret.mean(),\n",
        "    \"Median\"     : SP500_ret.median(),\n",
        "    \"Std Dev\"    : SP500_ret.std(ddof=1),   # 样本标准差\n",
        "    \"Min\"        : SP500_ret.min(),\n",
        "    \"Max\"        : SP500_ret.max(),\n",
        "    \"Skewness\"   : SP500_ret.skew(),\n",
        "    \"Kurtosis\"   : SP500_ret.kurt(),\n",
        "    \"Start Date\" : SP500_ret.index.min().date(),\n",
        "    \"End Date\"   : SP500_ret.index.max().date()\n",
        "}\n",
        "\n",
        "summary = pd.DataFrame(stats, index=[\"Value\"]).T\n",
        "print(summary.to_string())"
      ]
    },
    {
      "cell_type": "markdown",
      "metadata": {},
      "source": [
        "## OLS"
      ]
    },
    {
      "cell_type": "code",
      "execution_count": 13,
      "metadata": {
        "trusted": true
      },
      "outputs": [],
      "source": [
        "#--y = np.asarray(OK['Close']).astype(float)\n",
        "X = pd.to_datetime(OK['Date']).apply(lambda x: x.toordinal()) \n",
        "X = np.asarray(sm.add_constant(X))"
      ]
    },
    {
      "cell_type": "code",
      "execution_count": 14,
      "metadata": {
        "trusted": true
      },
      "outputs": [],
      "source": [
        "model = sm.OLS(OK['Close'], X).fit()"
      ]
    },
    {
      "cell_type": "code",
      "execution_count": 15,
      "metadata": {
        "trusted": true
      },
      "outputs": [
        {
          "name": "stdout",
          "output_type": "stream",
          "text": [
            "                            OLS Regression Results                            \n",
            "==============================================================================\n",
            "Dep. Variable:                  Close   R-squared:                       0.617\n",
            "Model:                            OLS   Adj. R-squared:                  0.617\n",
            "Method:                 Least Squares   F-statistic:                     1217.\n",
            "Date:                Mon, 16 Jun 2025   Prob (F-statistic):          1.83e-159\n",
            "Time:                        22:13:31   Log-Likelihood:                -2053.0\n",
            "No. Observations:                 756   AIC:                             4110.\n",
            "Df Residuals:                     754   BIC:                             4119.\n",
            "Df Model:                           1                                         \n",
            "Covariance Type:            nonrobust                                         \n",
            "==============================================================================\n",
            "                 coef    std err          t      P>|t|      [0.025      0.975]\n",
            "------------------------------------------------------------------------------\n",
            "const      -1.079e+04    311.054    -34.704      0.000   -1.14e+04   -1.02e+04\n",
            "x1             0.0147      0.000     34.882      0.000       0.014       0.016\n",
            "==============================================================================\n",
            "Omnibus:                      111.004   Durbin-Watson:                   0.049\n",
            "Prob(Omnibus):                  0.000   Jarque-Bera (JB):              187.571\n",
            "Skew:                           0.924   Prob(JB):                     1.86e-41\n",
            "Kurtosis:                       4.592   Cond. No.                     1.72e+09\n",
            "==============================================================================\n",
            "\n",
            "Notes:\n",
            "[1] Standard Errors assume that the covariance matrix of the errors is correctly specified.\n",
            "[2] The condition number is large, 1.72e+09. This might indicate that there are\n",
            "strong multicollinearity or other numerical problems.\n"
          ]
        }
      ],
      "source": [
        "print(model.summary())"
      ]
    },
    {
      "cell_type": "code",
      "execution_count": 16,
      "metadata": {
        "trusted": true
      },
      "outputs": [],
      "source": [
        "hac_cov = sw.cov_hac(model, 1)"
      ]
    },
    {
      "cell_type": "code",
      "execution_count": 17,
      "metadata": {
        "trusted": true
      },
      "outputs": [
        {
          "name": "stdout",
          "output_type": "stream",
          "text": [
            "                            OLS Regression Results                            \n",
            "==============================================================================\n",
            "Dep. Variable:                  Close   R-squared:                       0.617\n",
            "Model:                            OLS   Adj. R-squared:                  0.617\n",
            "Method:                 Least Squares   F-statistic:                     333.7\n",
            "Date:                Mon, 16 Jun 2025   Prob (F-statistic):           5.26e-62\n",
            "Time:                        22:13:42   Log-Likelihood:                -2053.0\n",
            "No. Observations:                 756   AIC:                             4110.\n",
            "Df Residuals:                     754   BIC:                             4119.\n",
            "Df Model:                           1                                         \n",
            "Covariance Type:                  HAC                                         \n",
            "==============================================================================\n",
            "                 coef    std err          t      P>|t|      [0.025      0.975]\n",
            "------------------------------------------------------------------------------\n",
            "const      -1.079e+04    594.031    -18.172      0.000    -1.2e+04   -9628.666\n",
            "x1             0.0147      0.001     18.268      0.000       0.013       0.016\n",
            "==============================================================================\n",
            "Omnibus:                      111.004   Durbin-Watson:                   0.049\n",
            "Prob(Omnibus):                  0.000   Jarque-Bera (JB):              187.571\n",
            "Skew:                           0.924   Prob(JB):                     1.86e-41\n",
            "Kurtosis:                       4.592   Cond. No.                     1.72e+09\n",
            "==============================================================================\n",
            "\n",
            "Notes:\n",
            "[1] Standard Errors are heteroscedasticity and autocorrelation robust (HAC) using 1 lags and without small sample correction\n",
            "[2] The condition number is large, 1.72e+09. This might indicate that there are\n",
            "strong multicollinearity or other numerical problems.\n"
          ]
        }
      ],
      "source": [
        "s = model.get_robustcov_results(cov_type='HAC', maxlags=1)\n",
        "print(s.summary())"
      ]
    },
    {
      "cell_type": "raw",
      "metadata": {},
      "source": []
    }
  ],
  "metadata": {
    "kernelspec": {
      "display_name": ".venv",
      "language": "python",
      "name": "python3"
    },
    "language_info": {
      "codemirror_mode": {
        "name": "ipython",
        "version": 3
      },
      "file_extension": ".py",
      "mimetype": "text/x-python",
      "name": "python",
      "nbconvert_exporter": "python",
      "pygments_lexer": "ipython3",
      "version": "3.12.3"
    }
  },
  "nbformat": 4,
  "nbformat_minor": 4
}
